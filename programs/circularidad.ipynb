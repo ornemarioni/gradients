{
 "cells": [
  {
   "cell_type": "code",
   "execution_count": 9,
   "metadata": {},
   "outputs": [
    {
     "name": "stdout",
     "output_type": "stream",
     "text": [
      "Populating the interactive namespace from numpy and matplotlib\n"
     ]
    }
   ],
   "source": [
    "%pylab inline"
   ]
  },
  {
   "cell_type": "code",
   "execution_count": 2,
   "metadata": {},
   "outputs": [
    {
     "name": "stdout",
     "output_type": "stream",
     "text": [
      "[ 0  1  3  4  5  6  7  9 20 21 22 27 28 31 33 35 36 37 38 39 41 42 45 46\n",
      " 49 50 51 53 54 64 65 66 69 73 74 79 84 85 87 88 90 91 92 95 96]\n"
     ]
    }
   ],
   "source": [
    "import numpy as np\n",
    "subh = np.loadtxt('../_data/subhalos.dat')\n",
    "\n",
    "halo_mask, = np.where((subh[:,15]==0) & (subh[:,16]==0))\n",
    "\n",
    "subh_name = subh[:,0][halo_mask]\n",
    "subh_ind  = np.int_(subh_name)\n",
    "# nsubh = len(subh_name)\n",
    "\n",
    "print(subh_ind)"
   ]
  },
  {
   "cell_type": "code",
   "execution_count": 40,
   "metadata": {},
   "outputs": [],
   "source": [
    "import matplotlib.pyplot as plt\n",
    "import h5py\n",
    "import rotation_mio as rot\n",
    "import numpy as np\n",
    "import time_conversion as time\n",
    "import bines2 as bines\n",
    "\n",
    "path = '/z/omarioni/gradients/_simulations/snap_127/'\n",
    "\n",
    "# for j in subh_ind[:1]:\n",
    "    \n",
    "#     print (j)\n",
    "j=0\n",
    "snap = h5py.File(path + 'subhalo_'+str('%03d'%j)+'.h5py', 'r')\n",
    "\n",
    "aexp = snap['/Time'][()]\n",
    "h    = snap['/h'][()]\n",
    "Om_L = snap['/Omega_Lambda'][()]\n",
    "Om_M = snap['/Omega_0'][()]\n",
    "R200 = snap['/R200'][()]\n",
    "\n",
    "pstr = snap['/Str/Coordinates'][()]\n",
    "mstr = snap['/Str/Masses'][()]\n",
    "vstr = snap['/Str/Velocities'][()]\n",
    "\n",
    "pot  = snap['/Str/Potential'][()]\n",
    "sft  = snap['/Str/FormationTime'][()]\n",
    "\n",
    "# aa,  = np.where(sft>0)\n",
    "# age  = time.conv2(sft[aa], h, Om_L, Om_M)\n",
    "# # print (len(age))\n",
    "# age  = np.nanmax(age) - age\n",
    "# print (len(age))\n",
    "# age_ = time.conv2(sft, h, Om_L, Om_M)\n",
    "# aa   = ~np.isnan(age_)\n",
    "# age_ = age_[aa]\n",
    "# age  = np.nanmax(age_) - age_\n",
    "\n",
    "xstr = pstr[:,0]*aexp/h\n",
    "ystr = pstr[:,1]*aexp/h\n",
    "zstr = pstr[:,2]*aexp/h\n",
    "rstr = np.sqrt(xstr**2+ystr**2+zstr**2)\n",
    "\n",
    "v_x = vstr[:,0] *np.sqrt(aexp)\n",
    "v_y = vstr[:,1] *np.sqrt(aexp)\n",
    "v_z = vstr[:,2] *np.sqrt(aexp)\n",
    "\n",
    "#----------------------masas----------------------------\n",
    "mstr = mstr/h\n",
    "pot  = pot/aexp\n",
    "\n",
    "veloc,=np.where(rstr < 3)\n",
    "\n",
    "#----------componentes de la velocidad del centro de masa------------\n",
    "vxcm = sum(mstr[veloc]*v_x[veloc])/sum(mstr[veloc])\n",
    "vycm = sum(mstr[veloc]*v_y[veloc])/sum(mstr[veloc])\n",
    "vzcm = sum(mstr[veloc]*v_z[veloc])/sum(mstr[veloc])\n",
    "\n",
    "vx = v_x - vxcm\n",
    "vy = v_y - vycm\n",
    "vz = v_z - vzcm\n",
    "\n",
    "e1x,e2x,e3x,e1y,e2y,e3y,e1z,e2z,e3z = rot.rot1(mstr,xstr,ystr,zstr,vx,vy,vz,5)\n",
    "\n",
    "xn  = e1x*xstr + e1y*ystr + e1z*zstr\n",
    "yn  = e2x*xstr + e2y*ystr + e2z*zstr\n",
    "zn  = e3x*xstr + e3y*ystr + e3z*zstr\n",
    "vxn = e1x*vx + e1y*vy + e1z*vz\n",
    "vyn = e2x*vx + e2y*vy + e2z*vz\n",
    "vzn = e3x*vx + e3y*vy + e3z*vz\n",
    "\n",
    "\n",
    "rn = np.sqrt(xn**2+yn**2+zn**2)\n",
    "\n",
    "limit, = np.where(rn < R200)\n",
    "aa,  = np.where(sft[limit]>0)\n",
    "\n",
    "limit2,=np.where(rn[aa]<R200*0.15)\n",
    "\n",
    "Jz = xn[limit][aa][limit2]*vyn[limit][aa][limit2] - yn[limit][aa][limit2]*vxn[limit][aa][limit2]\n",
    "\n",
    "K = 0.5*(vxn[limit][aa][limit2]**2 + vyn[limit][aa][limit2]**2 + vzn[limit][aa][limit2]**2)\n",
    "\n",
    "#     En = K[aa1] + pot[limit2][aa1]    \n",
    "En = K + pot[limit][aa][limit2]"
   ]
  },
  {
   "cell_type": "code",
   "execution_count": 22,
   "metadata": {},
   "outputs": [
    {
     "name": "stdout",
     "output_type": "stream",
     "text": [
      "[-482837.66 -482386.2  -482819.78 ... -141497.31 -139456.64 -145050.03]\n"
     ]
    }
   ],
   "source": [
    "print(pot[limit])"
   ]
  },
  {
   "cell_type": "code",
   "execution_count": 43,
   "metadata": {},
   "outputs": [
    {
     "name": "stdout",
     "output_type": "stream",
     "text": [
      "4981050\n"
     ]
    }
   ],
   "source": [
    "print(len(En))"
   ]
  },
  {
   "cell_type": "code",
   "execution_count": 27,
   "metadata": {},
   "outputs": [
    {
     "name": "stdout",
     "output_type": "stream",
     "text": [
      "5807065\n"
     ]
    }
   ],
   "source": [
    "print (len(aa))"
   ]
  },
  {
   "cell_type": "code",
   "execution_count": 25,
   "metadata": {},
   "outputs": [
    {
     "name": "stdout",
     "output_type": "stream",
     "text": [
      "5882020\n"
     ]
    }
   ],
   "source": [
    "print(len(aa))"
   ]
  },
  {
   "cell_type": "code",
   "execution_count": 5,
   "metadata": {},
   "outputs": [
    {
     "name": "stdout",
     "output_type": "stream",
     "text": [
      "5718162 5718162\n"
     ]
    }
   ],
   "source": [
    "print (len(sft[limit2][aa1]),len(sft[aa][limit]))"
   ]
  },
  {
   "cell_type": "code",
   "execution_count": 41,
   "metadata": {},
   "outputs": [
    {
     "data": {
      "text/plain": [
       "[<matplotlib.lines.Line2D at 0x7fda653d1c10>]"
      ]
     },
     "execution_count": 41,
     "metadata": {},
     "output_type": "execute_result"
    },
    {
     "data": {
      "image/png": "[encoded data removed]",
      "text/plain": [
       "<Figure size 432x288 with 1 Axes>"
      ]
     },
     "metadata": {
      "needs_background": "light"
     },
     "output_type": "display_data"
    }
   ],
   "source": [
    "import matplotlib.pyplot as plt\n",
    "plt.plot(En/1e5,Jz/1e3,'.k',markersize=0.01)"
   ]
  },
  {
   "cell_type": "code",
   "execution_count": 42,
   "metadata": {},
   "outputs": [],
   "source": [
    "str_pot = np.loadtxt('../_data/potencial_str.dat')\n",
    "pot_str = str_pot[:,1]"
   ]
  },
  {
   "cell_type": "code",
   "execution_count": 45,
   "metadata": {},
   "outputs": [
    {
     "name": "stdout",
     "output_type": "stream",
     "text": [
      "4981050\n"
     ]
    }
   ],
   "source": [
    "print(len(pot_str[aa][limit2]))"
   ]
  },
  {
   "cell_type": "code",
   "execution_count": 46,
   "metadata": {},
   "outputs": [
    {
     "data": {
      "text/plain": [
       "[<matplotlib.lines.Line2D at 0x7fda654f6e10>]"
      ]
     },
     "execution_count": 46,
     "metadata": {},
     "output_type": "execute_result"
    },
    {
     "data": {
      "image/png": "[encoded data removed]",
      "text/plain": [
       "<Figure size 432x288 with 1 Axes>"
      ]
     },
     "metadata": {
      "needs_background": "light"
     },
     "output_type": "display_data"
    }
   ],
   "source": [
    "En2 = K - pot_str[aa][limit2]/1e10\n",
    "\n",
    "import matplotlib.pyplot as plt\n",
    "plt.plot(En2/1e5,Jz/1e3,'.k',markersize=0.01)"
   ]
  },
  {
   "cell_type": "code",
   "execution_count": 47,
   "metadata": {},
   "outputs": [
    {
     "data": {
      "text/plain": [
       "[<matplotlib.lines.Line2D at 0x7fda65417850>]"
      ]
     },
     "execution_count": 47,
     "metadata": {},
     "output_type": "execute_result"
    },
    {
     "data": {
      "image/png": "[encoded data removed]",
      "text/plain": [
       "<Figure size 432x288 with 1 Axes>"
      ]
     },
     "metadata": {
      "needs_background": "light"
     },
     "output_type": "display_data"
    }
   ],
   "source": [
    "plt.plot(pot[limit][aa][limit2]/1e5,-pot_str[aa][limit2]/(1e15),'.k')"
   ]
  },
  {
   "cell_type": "code",
   "execution_count": null,
   "metadata": {},
   "outputs": [],
   "source": []
  }
 ],
 "metadata": {
  "kernelspec": {
   "display_name": "Python 3",
   "language": "python",
   "name": "python3"
  },
  "language_info": {
   "codemirror_mode": {
    "name": "ipython",
    "version": 3
   },
   "file_extension": ".py",
   "mimetype": "text/x-python",
   "name": "python",
   "nbconvert_exporter": "python",
   "pygments_lexer": "ipython3",
   "version": "3.7.4"
  }
 },
 "nbformat": 4,
 "nbformat_minor": 4
}
