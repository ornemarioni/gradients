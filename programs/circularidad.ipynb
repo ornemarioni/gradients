{
 "cells": [
  {
   "cell_type": "code",
   "execution_count": 1,
   "metadata": {},
   "outputs": [
    {
     "name": "stdout",
     "output_type": "stream",
     "text": [
      "Populating the interactive namespace from numpy and matplotlib\n"
     ]
    }
   ],
   "source": [
    "%pylab inline"
   ]
  },
  {
   "cell_type": "code",
   "execution_count": 2,
   "metadata": {},
   "outputs": [
    {
     "name": "stdout",
     "output_type": "stream",
     "text": [
      "[ 0  1  3  4  5  6  7  9 20 21 22 27 28 31 33 35 36 37 38 39 41 42 45 46\n",
      " 49 50 51 53 54 64 65 66 69 73 74 79 84 85 87 88 90 91 92 95 96]\n"
     ]
    }
   ],
   "source": [
    "import numpy as np\n",
    "subh = np.loadtxt('../_data/subhalos.dat')\n",
    "\n",
    "halo_mask, = np.where((subh[:,15]==0) & (subh[:,16]==0))\n",
    "\n",
    "subh_name = subh[:,0][halo_mask]\n",
    "subh_ind  = np.int_(subh_name)\n",
    "# nsubh = len(subh_name)\n",
    "\n",
    "print(subh_ind)"
   ]
  },
  {
   "cell_type": "code",
   "execution_count": 3,
   "metadata": {},
   "outputs": [],
   "source": [
    "import matplotlib.pyplot as plt\n",
    "import h5py\n",
    "import rotation_mio as rot\n",
    "import numpy as np\n",
    "import time_conversion as time\n",
    "import bines2 as bines\n",
    "\n",
    "path = '/z/omarioni/gradients/_simulations/snap_127/'\n",
    "\n",
    "for j in subh_ind[:1]:\n",
    "    \n",
    "    snap = h5py.File(path + 'subhalo_'+str('%03d'%j)+'.h5py', 'r')\n",
    "\n",
    "    aexp = snap['/Time'][()]\n",
    "    h    = snap['/h'][()]\n",
    "    Om_L = snap['/Omega_Lambda'][()]\n",
    "    Om_M = snap['/Omega_0'][()]\n",
    "    R50  = snap['/SubHalfmassRad'][()]\n",
    "\n",
    "    pstr = snap['/Str/Coordinates'][()]\n",
    "    mstr = snap['/Str/Masses'][()]\n",
    "    vstr = snap['/Str/Velocities'][()]\n",
    "\n",
    "    pot  = snap['/Str/Potential'][()]\n",
    "    sft  = snap['/Str/FormationTime'][()]\n",
    "\n",
    "    age_ = time.conv2(sft, h, Om_L, Om_M)\n",
    "    aa   = ~np.isnan(age_)\n",
    "    age_ = age_[aa]\n",
    "    age  = np.nanmax(age_) - age_\n",
    "    \n",
    "    r50 = R50*1000*aexp/h\n",
    "\n",
    "    xstr = pstr[aa,0]*aexp/h\n",
    "    ystr = pstr[aa,1]*aexp/h\n",
    "    zstr = pstr[aa,2]*aexp/h\n",
    "    rstr = np.sqrt(xstr**2+ystr**2+zstr**2)\n",
    "\n",
    "    v_x = vstr[aa,0] *np.sqrt(aexp)\n",
    "    v_y = vstr[aa,1] *np.sqrt(aexp)\n",
    "    v_z = vstr[aa,2] *np.sqrt(aexp)\n",
    "\n",
    "    #----------------------masas----------------------------\n",
    "    mstr = mstr[aa]/h\n",
    "    pot  = pot[aa]/aexp\n",
    "\n",
    "    veloc,=np.where(rstr < 3)\n",
    "\n",
    "    #----------componentes de la velocidad del centro de masa------------\n",
    "    vxcm = sum(mstr[veloc]*v_x[veloc])/sum(mstr[veloc])\n",
    "    vycm = sum(mstr[veloc]*v_y[veloc])/sum(mstr[veloc])\n",
    "    vzcm = sum(mstr[veloc]*v_z[veloc])/sum(mstr[veloc])\n",
    "\n",
    "    vx = v_x - vxcm\n",
    "    vy = v_y - vycm\n",
    "    vz = v_z - vzcm\n",
    "\n",
    "    e1x,e2x,e3x,e1y,e2y,e3y,e1z,e2z,e3z = rot.rot1(mstr,xstr,ystr,zstr,vx,vy,vz,5)\n",
    "\n",
    "    xn  = e1x*xstr + e1y*ystr + e1z*zstr\n",
    "    yn  = e2x*xstr + e2y*ystr + e2z*zstr\n",
    "    zn  = e3x*xstr + e3y*ystr + e3z*zstr\n",
    "    vxn = e1x*vx + e1y*vy + e1z*vz\n",
    "    vyn = e2x*vx + e2y*vy + e2z*vz\n",
    "    vzn = e3x*vx + e3y*vy + e3z*vz\n",
    "    \n",
    "    limit, = np.where(rstr<50)\n",
    "    \n",
    "    Jz = xn[limit]*vyn[limit] - yn[limit]*vxn[limit]\n",
    "    \n",
    "    K = 0.5*(vxn[limit]**2 + vyn[limit]**2 + vzn[limit]**2)\n",
    "    \n",
    "    En = K + pot[limit]"
   ]
  },
  {
   "cell_type": "code",
   "execution_count": 5,
   "metadata": {},
   "outputs": [
    {
     "name": "stdout",
     "output_type": "stream",
     "text": [
      "[-482837.66 -482386.2  -482819.78 ... -139456.64 -139924.2  -145050.03]\n"
     ]
    }
   ],
   "source": [
    "print(pot)"
   ]
  },
  {
   "cell_type": "code",
   "execution_count": 11,
   "metadata": {},
   "outputs": [
    {
     "data": {
      "text/plain": [
       "[<matplotlib.lines.Line2D at 0x7f42fc039150>]"
      ]
     },
     "execution_count": 11,
     "metadata": {},
     "output_type": "execute_result"
    },
    {
     "data": {
      "image/png": "[encoded data removed]",
      "text/plain": [
       "<Figure size 432x288 with 1 Axes>"
      ]
     },
     "metadata": {
      "needs_background": "light"
     },
     "output_type": "display_data"
    }
   ],
   "source": [
    "import matplotlib.pyplot as plt\n",
    "plt.plot(En/1e5,Jz/1e3,'.k',markersize=0.01)"
   ]
  },
  {
   "cell_type": "code",
   "execution_count": 14,
   "metadata": {},
   "outputs": [
    {
     "ename": "IndentationError",
     "evalue": "unindent does not match any outer indentation level (jc.py, line 24)",
     "output_type": "error",
     "traceback": [
      "Traceback \u001b[0;36m(most recent call last)\u001b[0m:\n",
      "  File \u001b[1;32m\"/z/omarioni/miniconda3/lib/python3.7/site-packages/IPython/core/interactiveshell.py\"\u001b[0m, line \u001b[1;32m3326\u001b[0m, in \u001b[1;35mrun_code\u001b[0m\n    exec(code_obj, self.user_global_ns, self.user_ns)\n",
      "\u001b[0;36m  File \u001b[0;32m\"<ipython-input-14-0504e62d8d8b>\"\u001b[0;36m, line \u001b[0;32m1\u001b[0;36m, in \u001b[0;35m<module>\u001b[0;36m\u001b[0m\n\u001b[0;31m    import jc\u001b[0m\n",
      "\u001b[0;36m  File \u001b[0;32m\"/z/omarioni/gradients/programs/jc.py\"\u001b[0;36m, line \u001b[0;32m24\u001b[0m\n\u001b[0;31m    for i in range(n):\u001b[0m\n\u001b[0m                      ^\u001b[0m\n\u001b[0;31mIndentationError\u001b[0m\u001b[0;31m:\u001b[0m unindent does not match any outer indentation level\n"
     ]
    }
   ],
   "source": [
    "import jc"
   ]
  },
  {
   "cell_type": "code",
   "execution_count": null,
   "metadata": {},
   "outputs": [],
   "source": []
  }
 ],
 "metadata": {
  "kernelspec": {
   "display_name": "Python 3",
   "language": "python",
   "name": "python3"
  },
  "language_info": {
   "codemirror_mode": {
    "name": "ipython",
    "version": 3
   },
   "file_extension": ".py",
   "mimetype": "text/x-python",
   "name": "python",
   "nbconvert_exporter": "python",
   "pygments_lexer": "ipython3",
   "version": "3.7.4"
  }
 },
 "nbformat": 4,
 "nbformat_minor": 4
}
