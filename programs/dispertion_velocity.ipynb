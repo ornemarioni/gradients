{
 "cells": [
  {
   "cell_type": "code",
   "execution_count": null,
   "id": "d67a392c-f37d-4f44-8d13-12e56a61385d",
   "metadata": {},
   "outputs": [],
   "source": [
    "%%time\n",
    "\n",
    "import numpy as np\n",
    "import matplotlib.pyplot as plt\n",
    "import h5py\n",
    "from scipy.interpolate import CubicSpline\n",
    "\n",
    "\n",
    "shID = np.loadtxt('../_data/my_halos.dat')[:,0]\n",
    "path = '/store/erebos/omarioni/_simulations/snap_127/'\n",
    "path2 = '/store/clues/HESTIA/RE_SIMS/8192/GAL_FOR/17_11/AHF_output_2x2.5Mpc/'\n",
    "\n",
    "for i in range(1):\n",
    "\n",
    "    data = np.loadtxt(path2 + 'HESTIA_100Mpc_8192_17_11.127_halo_'+ str('%d'%shID[i])+'.dat')\n",
    "\n",
    "    z  = data[:,0]\n",
    "    Xc = data[:,6]\n",
    "    Yc = data[:,7]\n",
    "    Zc = data[:,8]\n",
    "\n",
    "    Hpos = np.array([Xc,Yc,Zc]).T  \n",
    "    a = 1./(z+1)\n",
    "    center_intep = CubicSpline(a[::-1],Hpos[::-1])\n",
    "\n",
    "    pos_part = np.loadtxt('../_data/pos_part_age/sft_snap_sh_'+ str('%d'%shID[i]) +'.dat')\n",
    "\n",
    "    ID_str = pos_part[:,0]\n",
    "    x_str  = pos_part[:,1]    \n",
    "    y_str  = pos_part[:,2]\n",
    "    z_str  = pos_part[:,3]\n",
    "    m_str  = pos_part[:,4]\n",
    "\n",
    "    r_str = np.sqrt(x_str**2 + y_str**2 + z_str**2)\n",
    "\n",
    "    print('subhalo_'+str('%d'%shID[i]))\n",
    "    #--------------t=0------------------------  \n",
    "    snap = h5py.File(path + 'subhalo_'+str('%d'%shID[i])+'.h5py', 'r')\n",
    "\n",
    "    aexp = snap['/Time'][()]\n",
    "    h    = snap['/h'][()]\n",
    "    Om_L = snap['/Omega_Lambda'][()]\n",
    "    Om_M = snap['/Omega_0'][()]\n",
    "    Rvir = snap['/R200'][()]\n",
    "\n",
    "    pstr = snap['/Str/Coordinates']\n",
    "    p_sf = snap['/Str/Birth_Position'][()]\n",
    "    IDs  = snap['/Str/IDs'][()]\n",
    "\n",
    "    sft  = snap['/Str/FormationTime'][()]\n",
    "\n",
    "    amask, = np.where(sft>0) #aca puede haber particulas con age<0, esas no son estrellas son gas cells.\n",
    "\n",
    "    xstr = pstr[amask,0] * aexp/h\n",
    "    ystr = pstr[amask,1] * aexp/h\n",
    "    zstr = pstr[amask,2] * aexp/h\n",
    "    rstr = np.sqrt(xstr**2+ystr**2+zstr**2)\n",
    "\n",
    "    rgal = 0.15*Rvir*aexp/h\n",
    "\n",
    "    limit, = np.where(rstr<rgal)\n",
    "\n",
    "    p_sf = p_sf[amask]*1000 - center_intep(sft[amask])\n",
    "    x_sf = p_sf[:,0]*sft[amask]/h\n",
    "    y_sf = p_sf[:,1]*sft[amask]/h\n",
    "    z_sf = p_sf[:,2]*sft[amask]/h\n",
    "    r_sf = np.sqrt(x_sf**2+y_sf**2+z_sf**2)\n",
    "\n",
    "    ID_vector = np.concatenate([IDs[limit],ID_str])\n",
    "    ident_vect = np.concatenate([np.zeros(len(IDs[limit])),np.ones(len(ID_str))])\n",
    "    dist_vector = np.concatenate([r_sf[limit],r_str])"
   ]
  },
  {
   "cell_type": "code",
   "execution_count": 2,
   "id": "393002a4-1220-4828-a755-d47165cee963",
   "metadata": {},
   "outputs": [
    {
     "name": "stdout",
     "output_type": "stream",
     "text": [
      "5804585\n"
     ]
    }
   ],
   "source": [
    "print(len(r_sf))"
   ]
  },
  {
   "cell_type": "code",
   "execution_count": 4,
   "id": "cef5310e-9e48-4826-9cd6-fd8cd666f7e0",
   "metadata": {},
   "outputs": [
    {
     "name": "stdout",
     "output_type": "stream",
     "text": [
      "CPU times: user 1min 28s, sys: 1.83 s, total: 1min 30s\n",
      "Wall time: 1min 29s\n"
     ]
    }
   ],
   "source": [
    "%%time\n",
    "i=0\n",
    "pos_part = np.loadtxt('../_data/pos_part_age/sft_snap_sh_'+ str('%d'%shID[i]) +'.dat')\n",
    "\n",
    "ID_str = pos_part[:,0]\n",
    "x_str  = pos_part[:,1]    \n",
    "y_str  = pos_part[:,2]\n",
    "z_str  = pos_part[:,3]\n",
    "m_str  = pos_part[:,4]\n",
    "\n",
    "r_str = np.sqrt(x_str**2 + y_str**2 + z_str**2)"
   ]
  },
  {
   "cell_type": "code",
   "execution_count": null,
   "id": "b92e1268-7427-4298-9d66-34d2e2c8d66c",
   "metadata": {},
   "outputs": [],
   "source": []
  }
 ],
 "metadata": {
  "kernelspec": {
   "display_name": "Python 3 (ipykernel)",
   "language": "python",
   "name": "python3"
  },
  "language_info": {
   "codemirror_mode": {
    "name": "ipython",
    "version": 3
   },
   "file_extension": ".py",
   "mimetype": "text/x-python",
   "name": "python",
   "nbconvert_exporter": "python",
   "pygments_lexer": "ipython3",
   "version": "3.7.4"
  }
 },
 "nbformat": 4,
 "nbformat_minor": 5
}
