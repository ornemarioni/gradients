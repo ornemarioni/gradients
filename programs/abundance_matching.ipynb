{
 "cells": [
  {
   "cell_type": "code",
   "execution_count": 1,
   "metadata": {},
   "outputs": [
    {
     "name": "stdout",
     "output_type": "stream",
     "text": [
      "Populating the interactive namespace from numpy and matplotlib\n"
     ]
    }
   ],
   "source": [
    "%pylab inline"
   ]
  },
  {
   "cell_type": "code",
   "execution_count": 2,
   "metadata": {},
   "outputs": [
    {
     "name": "stdout",
     "output_type": "stream",
     "text": [
      "[ 0  1  3  4  5  6  7  9 20 21 22 27 28 31 33 35 36 37 38 39 41 42 45 46\n",
      " 49 50 51 53 54 64 65 66 69 73 74 79 84 85 87 88 90 91 92 95 96]\n"
     ]
    }
   ],
   "source": [
    "import numpy as np\n",
    "subh = np.loadtxt('../_data/subhalos.dat')\n",
    "\n",
    "halo_mask, = np.where((subh[:,15]==0) & (subh[:,16]==0))\n",
    "\n",
    "subh_name = subh[:,0][halo_mask]\n",
    "subh_ind  = np.int_(subh_name)\n",
    "# nsubh = len(subh_name)\n",
    "\n",
    "print(subh_ind)"
   ]
  },
  {
   "cell_type": "code",
   "execution_count": null,
   "metadata": {},
   "outputs": [],
   "source": [
    "import matplotlib.pyplot as plt\n",
    "import numpy as np\n",
    "  \n",
    "c = 0.129\n",
    "M0 = 10**11.4\n",
    "alpha = 0.926\n",
    "beta = 0.261\n",
    "gamma = 2.440\n",
    "MM = np.arange(10.5,12,0.05)\n",
    "M_vir = 10**MM\n",
    "\n",
    "#------------------curva de Guo et al 2010-------------------\n",
    "c1 = (M_vir/M0)**(-alpha)\n",
    "c2 = (M_vir/M0)**beta\n",
    "M_estrella = M_vir * c * ((c1+c2)**(-gamma))\n",
    "\n",
    "Me=log10(M_estrella)\n",
    "\n",
    "#-------fraccion de bariones universal--------------------\n",
    "MM1 = np.arange(9.5, 12, 0.05)\n",
    "fbar = 0.0418/0.24\n",
    "Mbar = fbar * 10**MM1\n",
    "\n",
    "#---------------------------------------------------------\n",
    "fig, ax = plt.subplots(nrows=2, ncols=1, figsize=(12, 12))\n",
    "fig.subplots_adjust(bottom=0.10, left =0.08, right = 0.98, top = 0.95,hspace=0.05\n",
    "ax.plot(MM,Me,'k', lw=2)\n",
    "ax.plot(MM1,log10(Mbar),'--', lw=1, color ='k')\n",
    "ax.set_ylim(8.5,10.3)\n",
    "ax.set_xlim(10,12)\n",
    "ax.minorticks_on()\n",
    "ax.tick_params( labelsize=15)\n",
    "ax.tick_params('both', length=5, width=1.2,which='minor', direction='in', right='on',top='on')\n",
    "ax.tick_params('both', length=8, width=1.2,which='major', direction='in', right='on',top='on')\n",
    "ax.set_xlabel(r'$log(M_{vir}/M_{\\odot})$', fontsize=15)\n",
    "ax.set_ylabel(r'$log(M_{gal}/M_{\\odot})$', fontsize=15)\n",
    "\n",
    "\n",
    "# fig.savefig('/home/ornela/python/sem1/Mvir_vs_Mgal.png', dpi = 100)\n",
    "plt.show()\n",
    "    "
   ]
  }
 ],
 "metadata": {
  "kernelspec": {
   "display_name": "Python 3",
   "language": "python",
   "name": "python3"
  },
  "language_info": {
   "codemirror_mode": {
    "name": "ipython",
    "version": 3
   },
   "file_extension": ".py",
   "mimetype": "text/x-python",
   "name": "python",
   "nbconvert_exporter": "python",
   "pygments_lexer": "ipython3",
   "version": "3.7.4"
  }
 },
 "nbformat": 4,
 "nbformat_minor": 4
}
