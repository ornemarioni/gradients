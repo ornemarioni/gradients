{
 "cells": [
  {
   "cell_type": "code",
   "execution_count": 1,
   "metadata": {},
   "outputs": [
    {
     "name": "stdout",
     "output_type": "stream",
     "text": [
      "Populating the interactive namespace from numpy and matplotlib\n"
     ]
    }
   ],
   "source": [
    "%pylab inline"
   ]
  },
  {
   "cell_type": "code",
   "execution_count": 2,
   "metadata": {},
   "outputs": [
    {
     "name": "stdout",
     "output_type": "stream",
     "text": [
      "CPU times: user 302 ms, sys: 165 ms, total: 467 ms\n",
      "Wall time: 735 ms\n"
     ]
    },
    {
     "data": {
      "text/plain": [
       "0"
      ]
     },
     "execution_count": 2,
     "metadata": {},
     "output_type": "execute_result"
    }
   ],
   "source": [
    "%%time\n",
    "import gc\n",
    "import joblib\n",
    "import h5py\n",
    "import pathlib\n",
    "import numpy as np \n",
    "\n",
    "\n",
    "dir_path = '/store/clues/HESTIA/RE_SIMS/8192/GAL_FOR/17_11/output_2x2.5Mpc/groups_127/'\n",
    "\n",
    "SubhMass = []\n",
    "SubhPos  = []\n",
    "SubhMTy  = []\n",
    "SubhR50  = []\n",
    "\n",
    "for i in range(0,8):\n",
    "    \n",
    "    snap = h5py.File(dir_path + 'fof_subhalo_tab_127.'+ str('%s'%i) +'.hdf5','r')\n",
    "\n",
    "    sub_mass = snap['Subhalo/SubhaloMass'][()]\n",
    "    sub_pos  = snap['Subhalo/SubhaloPos'][()]\n",
    "    sub_mty  = snap['Subhalo/SubhaloMassType'][()]\n",
    "    sub_r50  = snap['Subhalo/SubhaloHalfmassRad'][()]\n",
    "\n",
    "    SubhMass.append(sub_mass)\n",
    "    SubhPos.append(sub_pos)\n",
    "    SubhMTy.append(sub_mty)\n",
    "    SubhR50.append(sub_r50)\n",
    "\n",
    "SubhMass = np.concatenate(SubhMass)\n",
    "SubhPos  = np.concatenate(SubhPos)\n",
    "SubhMTy  = np.concatenate(SubhMTy)\n",
    "SubhR50  = np.concatenate(SubhR50)\n",
    "\n",
    "gc.collect()"
   ]
  },
  {
   "cell_type": "code",
   "execution_count": 3,
   "metadata": {},
   "outputs": [
    {
     "name": "stdout",
     "output_type": "stream",
     "text": [
      "(81461, 3)\n",
      "[1.5752759e+12 1.1699873e+12 5.7578933e+11 5.5521280e+11 2.3570245e+11\n",
      " 1.8116307e+11 1.6131521e+11 1.4867379e+11 1.4413586e+11 1.4381996e+11]\n",
      "[[1.10465729e+11 1.38343245e+12 0.00000000e+00 0.00000000e+00\n",
      "  8.12707922e+10 1.06893328e+08 0.00000000e+00]\n",
      " [5.62114560e+10 1.03561803e+12 0.00000000e+00 0.00000000e+00\n",
      "  7.81197230e+10 3.81372840e+07 0.00000000e+00]\n",
      " [6.23428690e+10 3.93908191e+11 0.00000000e+00 0.00000000e+00\n",
      "  1.19115170e+11 4.23098592e+08 0.00000000e+00]\n",
      " [4.31543788e+10 4.82571387e+11 0.00000000e+00 0.00000000e+00\n",
      "  2.94764728e+10 1.05639230e+07 0.00000000e+00]\n",
      " [2.00611615e+10 2.02057843e+11 0.00000000e+00 0.00000000e+00\n",
      "  1.35750205e+10 8.42748100e+06 0.00000000e+00]\n",
      " [1.68133530e+10 1.51495737e+11 0.00000000e+00 0.00000000e+00\n",
      "  1.28446607e+10 9.31647900e+06 0.00000000e+00]\n",
      " [1.71730565e+10 1.35264256e+11 0.00000000e+00 0.00000000e+00\n",
      "  8.87177728e+09 6.11738700e+06 0.00000000e+00]\n",
      " [1.81018071e+10 1.24038636e+11 0.00000000e+00 0.00000000e+00\n",
      "  6.53002496e+09 3.32281825e+06 0.00000000e+00]\n",
      " [1.89663068e+10 1.16146586e+11 0.00000000e+00 0.00000000e+00\n",
      "  9.01550694e+09 7.46754250e+06 0.00000000e+00]\n",
      " [1.66613002e+10 1.20425628e+11 0.00000000e+00 0.00000000e+00\n",
      "  6.72909210e+09 3.94378850e+06 0.00000000e+00]]\n",
      "[0.06842346 0.04551199 0.05081347 0.0416441  0.02460471 0.01982324\n",
      " 0.02079998 0.02245608 0.02539282 0.02286837]\n"
     ]
    }
   ],
   "source": [
    "import numpy as np\n",
    "\n",
    "print (np.shape(SubhPos))\n",
    "\n",
    "sort = np.argsort(SubhMass)\n",
    "\n",
    "SMass = SubhMass[sort][::-1]*1e10\n",
    "SMTy  = SubhMTy[sort][::-1]*1e10\n",
    "SR50  = SubhR50[sort][::-1]\n",
    "\n",
    "print (SMass[:10])\n",
    "print (SMTy[:10])\n",
    "print (SR50[:10])"
   ]
  },
  {
   "cell_type": "code",
   "execution_count": 4,
   "metadata": {},
   "outputs": [
    {
     "name": "stdout",
     "output_type": "stream",
     "text": [
      "[[48.81521  46.704514 53.605064]\n",
      " [48.71576  47.06235  53.33718 ]\n",
      " [46.974728 49.455475 51.771206]\n",
      " [47.528534 46.364803 54.832882]\n",
      " [47.325207 47.259197 51.91327 ]\n",
      " [47.791496 47.55743  53.327   ]\n",
      " [47.41012  48.306732 52.663097]\n",
      " [49.867104 47.25419  52.225414]\n",
      " [45.62381  46.928238 54.103687]\n",
      " [48.525105 48.03401  51.99552 ]]\n"
     ]
    }
   ],
   "source": [
    "H_pos = SubhPos[sort][::-1]\n",
    "print (H_pos[:10])"
   ]
  },
  {
   "cell_type": "code",
   "execution_count": 5,
   "metadata": {},
   "outputs": [
    {
     "name": "stdout",
     "output_type": "stream",
     "text": [
      "CPU times: user 1min 31s, sys: 1min 44s, total: 3min 16s\n",
      "Wall time: 31.4 s\n"
     ]
    },
    {
     "data": {
      "text/plain": [
       "0"
      ]
     },
     "execution_count": 5,
     "metadata": {},
     "output_type": "execute_result"
    }
   ],
   "source": [
    "%%time\n",
    "import gc\n",
    "import joblib\n",
    "import h5py\n",
    "import pathlib\n",
    "import numpy as np\n",
    "\n",
    "dir_path = '/store/clues/HESTIA/RE_SIMS/8192/GAL_FOR/17_11/output_2x2.5Mpc/snapdir_127/'\n",
    "\n",
    "StrPos  = []\n",
    "StrMass = []\n",
    "\n",
    "GasPos  = []\n",
    "GasMass = []\n",
    "\n",
    "DrkPos  = []\n",
    "DrkMass = []\n",
    "\n",
    "\n",
    "for i in range(0,8):\n",
    "    snap = h5py.File(dir_path + 'snapshot_127.'+ str('%s'%i) +'.hdf5','r')\n",
    "    \n",
    "    #stars\n",
    "    pos_str    = snap['PartType4/Coordinates'][()]\n",
    "    mass_str   = snap['PartType4/Masses'][()]\n",
    "   \n",
    "    StrPos.append(pos_str)\n",
    "    StrMass.append(mass_str)\n",
    "\n",
    "    #gas\n",
    "    pos_gas    = snap['PartType0/Coordinates'][()]\n",
    "    mass_gas   = snap['PartType0/Masses'][()]\n",
    "    \n",
    "    GasPos.append(pos_gas)\n",
    "    GasMass.append(mass_gas)\n",
    "\n",
    "    #dark matter\n",
    "    pos_drk    = snap['PartType1/Coordinates'][()]\n",
    "    mass_drk   = snap['PartType1/Masses'][()]\n",
    "    \n",
    "    DrkPos.append(pos_drk)\n",
    "    DrkMass.append(mass_drk)\n",
    "\n",
    "    \n",
    "a = snap.get('Header').attrs['Time']\n",
    "h = snap.get('Header').attrs['HubbleParam']\n",
    "\n",
    "Omega0   = snap.get('Header').attrs['Omega0']\n",
    "Omegab   = snap.get('Header').attrs['OmegaBaryon']\n",
    "OmegaL   = snap.get('Header').attrs['OmegaLambda']\n",
    "Redshift = snap.get('Header').attrs['Redshift']\n",
    "\n",
    "Unit_Length = snap.get('Header').attrs['UnitLength_in_cm']\n",
    "Unit_Mass   = snap.get('Header').attrs['UnitMass_in_g']\n",
    "Unit_Veloc  = snap.get('Header').attrs['UnitVelocity_in_cm_per_s']\n",
    "\n",
    "StrPos  = np.concatenate(StrPos)\n",
    "StrMass = np.concatenate(StrMass)\n",
    "\n",
    "GasPos  = np.concatenate(GasPos)\n",
    "GasMass = np.concatenate(GasMass)\n",
    "\n",
    "DrkPos  = np.concatenate(DrkPos)\n",
    "DrkMass = np.concatenate(DrkMass)\n",
    "\n",
    "gc.collect()"
   ]
  },
  {
   "cell_type": "code",
   "execution_count": 6,
   "metadata": {},
   "outputs": [
    {
     "name": "stdout",
     "output_type": "stream",
     "text": [
      "[ 0  1  3  4  5  6  7  9 20 21 22 27 28 31 33 35 36 37 38 39 41 42 45 46\n",
      " 49 50 51 53 54 64 65 66 69 73 74 79 84 85 87 88 90 91 92 95 96]\n"
     ]
    }
   ],
   "source": [
    "import numpy as np\n",
    "subh = np.loadtxt('../_data/subhalos.dat')\n",
    "\n",
    "halo_mask, = np.where((subh[:,15]==0) & (subh[:,16]==0))\n",
    "\n",
    "subh_name = subh[:,0][halo_mask]\n",
    "subh_ind  = np.int_(subh_name)\n",
    "# nsubh = len(subh_name)\n",
    "\n",
    "print(subh_ind)"
   ]
  },
  {
   "cell_type": "code",
   "execution_count": 11,
   "metadata": {},
   "outputs": [
    {
     "name": "stdout",
     "output_type": "stream",
     "text": [
      "subhalo 000 Mvir =  2.6059E+12 Rvir =  290.01156544\n",
      "subhalo 001 Mvir =  2.2134E+12 Rvir =  274.65235988\n",
      "subhalo 003 Mvir =  7.9338E+11 Rvir =  195.10067109\n",
      "subhalo 004 Mvir =  3.3978E+11 Rvir =  147.06049023\n",
      "subhalo 005 Mvir =  2.6794E+11 Rvir =  135.86501130\n",
      "subhalo 006 Mvir =  2.4268E+11 Rvir =  131.45412989\n",
      "subhalo 007 Mvir =  2.0014E+11 Rvir =  123.27589266\n",
      "subhalo 009 Mvir =  1.9425E+11 Rvir =  122.05354973\n",
      "CPU times: user 26min 29s, sys: 9min 8s, total: 35min 37s\n",
      "Wall time: 7min 48s\n"
     ]
    }
   ],
   "source": [
    "%%time\n",
    "\n",
    "import numpy as np\n",
    "import gc\n",
    "\n",
    "G = 4.299e-6 #kpc*(km/s)*Msol^-1\n",
    "\n",
    "H0 = 100*h #km/s/Mpc\n",
    "\n",
    "# omega_matter = results[0]['Omega0']\n",
    "# omega_lambda = results[0]['OmegaL']\n",
    "# omega0 = omega_matter + omega_lambda\n",
    "\n",
    "# z = results[0]['Redshift']\n",
    "\n",
    "for i in subh_ind[:8]:\n",
    "    \n",
    "    SPos = (StrPos - H_pos[i,:])*1000\n",
    "    xstr = SPos[:,0]*a/h\n",
    "    ystr = SPos[:,1]*a/h\n",
    "    zstr = SPos[:,2]*a/h\n",
    "    rstr = np.sqrt(xstr**2 + ystr**2 + zstr**2)\n",
    "    mstr = StrMass*1e10/h\n",
    "    \n",
    "    GPos = (GasPos - H_pos[i,:])*1000\n",
    "    xgas = GPos[:,0]*a/h\n",
    "    ygas = GPos[:,1]*a/h\n",
    "    zgas = GPos[:,2]*a/h\n",
    "    rgas = np.sqrt(xgas**2 + ygas**2 + zgas**2)\n",
    "    mgas = GasMass*1e10/h\n",
    "    \n",
    "    DPos = (DrkPos - H_pos[i,:])*1000\n",
    "    xdrk = DPos[:,0]*a/h\n",
    "    ydrk = DPos[:,1]*a/h\n",
    "    zdrk = DPos[:,2]*a/h\n",
    "    rdrk = np.sqrt(xdrk**2 + ydrk**2 + zdrk**2)\n",
    "    mdrk = DrkMass*1e10/h\n",
    "    \n",
    "    st, = np.where(rstr < 1000)\n",
    "    dm, = np.where(rdrk < 1000)\n",
    "    gs, = np.where(rstr < 1000)\n",
    "    \n",
    "    r = np.concatenate([rstr[st], rgas[gs], rdrk[dm]])\n",
    "    m = np.concatenate([mstr[st], mgas[gs], mdrk[dm]])\n",
    "\n",
    "    psort = np.argsort(r)\n",
    "    \n",
    "    \n",
    "    vol  = 4./3 * np.pi * r[psort]**3\n",
    "    mass = np.cumsum(m[psort])\n",
    "    rho  = mass / vol\n",
    "\n",
    "    H0_kpc = H0/1000 #paso a kpc\n",
    "    \n",
    "    rho_crit = 3*H0_kpc**2 / (8*np.pi*G)\n",
    "\n",
    "    mask, = np.where(rho > 200*rho_crit)\n",
    "    \n",
    "    Mvir = mass[mask][-1]\n",
    "    Rvir = r[psort][mask][-1] \n",
    "    \n",
    "#     print (i)\n",
    "    print ('subhalo', str('%03d'%i), 'Mvir = ', str('%.4E'%Mvir), 'Rvir = ', str('%4.8f'%Rvir))\n",
    "    \n",
    "    gc.collect()\n",
    "    "
   ]
  },
  {
   "cell_type": "code",
   "execution_count": null,
   "metadata": {},
   "outputs": [],
   "source": []
  },
  {
   "cell_type": "code",
   "execution_count": 69,
   "metadata": {},
   "outputs": [],
   "source": [
    "msort = np.argsort(Mvir)\n",
    "shID = msort\n",
    "\n",
    "data = np.ndarray([nsub, 3])\n",
    "data[:,0] = Mvir[msort][::-1]\n",
    "data[:,1] = Rvir[msort][::-1]\n",
    "data[:,2] = shID[::-1]\n",
    "\n",
    "np.savetxt('../_data/Mvir_Rvir.dat', data, fmt = ('%.5E','%12.8f', '%03d'))"
   ]
  },
  {
   "cell_type": "code",
   "execution_count": 59,
   "metadata": {},
   "outputs": [
    {
     "name": "stdout",
     "output_type": "stream",
     "text": [
      "1.959E+12\n",
      "1.833E+11\n",
      "1.568E+12\n",
      "1.188E+11\n",
      "2.816E+10\n",
      "1.538E+11\n",
      "1.912E+12\n",
      "1.796E+12\n",
      "3.358E+09\n",
      "1.845E+10\n",
      "3.872E+09\n"
     ]
    }
   ],
   "source": [
    "for i in range(11):\n",
    "    print ('%.3E'%Mvir[i])"
   ]
  },
  {
   "cell_type": "code",
   "execution_count": 50,
   "metadata": {},
   "outputs": [
    {
     "name": "stdout",
     "output_type": "stream",
     "text": [
      "[ 0  6  7  2  1  5  3  4  9 10  8 39 31 32 33 34 35 36 37 38 44 40 41 42\n",
      " 43 29 45 46 47 30 24 28 18 11 12 13 14 15 16 17 19 27 20 21 22 23 98 25\n",
      " 26 48 99 50 75 77 78 79 80 81 82 83 84 85 86 87 88 89 90 91 92 93 94 95\n",
      " 96 97 76 74 51 73 52 53 54 55 56 57 58 59 60 61 62 63 64 65 66 67 68 69\n",
      " 70 71 72 49]\n"
     ]
    }
   ],
   "source": [
    "msort = np.argsort(Mvir)\n",
    "print (msort[::-1])"
   ]
  },
  {
   "cell_type": "code",
   "execution_count": 17,
   "metadata": {},
   "outputs": [
    {
     "data": {
      "text/plain": [
       "127.58094145367797"
      ]
     },
     "execution_count": 17,
     "metadata": {},
     "output_type": "execute_result"
    }
   ],
   "source": [
    "(1.88e-29)*h**2 *(3.086e21)**3 / (1.989e33) "
   ]
  },
  {
   "cell_type": "code",
   "execution_count": 39,
   "metadata": {},
   "outputs": [
    {
     "name": "stdout",
     "output_type": "stream",
     "text": [
      "25504.62350081994\n"
     ]
    }
   ],
   "source": [
    "print (rho_crit*200)"
   ]
  },
  {
   "cell_type": "code",
   "execution_count": 41,
   "metadata": {},
   "outputs": [
    {
     "name": "stdout",
     "output_type": "stream",
     "text": [
      "[  259.55519224   259.58658917   259.59027663 ... 90929.78325109\n",
      " 91228.94830954 91241.25829807]\n"
     ]
    }
   ],
   "source": [
    "print (r[psort][mask])"
   ]
  },
  {
   "cell_type": "code",
   "execution_count": null,
   "metadata": {},
   "outputs": [],
   "source": [
    "for i in range(100):\n",
    "    print (SMASS[i], Mvir[i])"
   ]
  },
  {
   "cell_type": "code",
   "execution_count": null,
   "metadata": {},
   "outputs": [],
   "source": [
    "\n",
    "r = np.concatenate(rstr,rgas,rdrk)\n",
    "m = np.concatenate(mstr,mgas,mdrk)\n",
    "\n",
    "psort = np.argsort(r)\n",
    "\n",
    "vol  = 4./3 * np.pi * r[psort]**3\n",
    "mass = m[psort]\n",
    "rho  = mass / vol\n",
    "\n",
    "rho_crit = 3*H**2 / (8*np.pi*G)\n",
    "\n",
    "mask, = np.where(rho < 200*rho_crit)\n",
    "Mvir = mvir[-1]"
   ]
  },
  {
   "cell_type": "code",
   "execution_count": null,
   "metadata": {},
   "outputs": [],
   "source": [
    "h = 0.6777\n",
    "G = 4.299e-6 #kpc*(km/s)*Msol^-1\n",
    "a0 = 1\n",
    "H0 = h*100\n",
    "omega_lambda = 0.682\n",
    "omega_matter = 0.318\n",
    "omega0 = omega_matter + omega_lambda\n",
    "\n",
    "z = a0/aexp[isnap] - 1.\n",
    "Ht = H0*np.sqrt(omega_lambda+(1-omega0)*(1+z)**2+omega_matter*(1+z)**3)\n",
    "time = tiempo.conv(z, h, omega_lambda, omega_matter)\n",
    "\n",
    "#---aca paso las coordenadas respecto al centro de la galaxia------\n",
    "xstr = (pstr[:,0]-cm[0])*aexp[isnap]/h\n",
    "ystr = (pstr[:,1]-cm[1])*aexp[isnap]/h\n",
    "zstr = (pstr[:,2]-cm[2])*aexp[isnap]/h\n",
    "\n",
    "v_x = vel[:,0] *np.sqrt(aexp[isnap]) + Ht *xstr/1000.\n",
    "v_y = vel[:,1] *np.sqrt(aexp[isnap]) + Ht *ystr/1000.\n",
    "v_z = vel[:,2] *np.sqrt(aexp[isnap]) + Ht *zstr/1000."
   ]
  }
 ],
 "metadata": {
  "kernelspec": {
   "display_name": "Python 3",
   "language": "python",
   "name": "python3"
  },
  "language_info": {
   "codemirror_mode": {
    "name": "ipython",
    "version": 3
   },
   "file_extension": ".py",
   "mimetype": "text/x-python",
   "name": "python",
   "nbconvert_exporter": "python",
   "pygments_lexer": "ipython3",
   "version": "3.7.4"
  }
 },
 "nbformat": 4,
 "nbformat_minor": 4
}
