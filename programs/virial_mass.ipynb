{
 "cells": [
  {
   "cell_type": "code",
   "execution_count": 1,
   "metadata": {},
   "outputs": [
    {
     "name": "stdout",
     "output_type": "stream",
     "text": [
      "Populating the interactive namespace from numpy and matplotlib\n"
     ]
    }
   ],
   "source": [
    "%pylab inline"
   ]
  },
  {
   "cell_type": "code",
   "execution_count": 2,
   "metadata": {},
   "outputs": [
    {
     "name": "stdout",
     "output_type": "stream",
     "text": [
      "Config\n",
      "Group\n",
      "Group/GroupBHMass\n",
      "Group/GroupBHMdot\n",
      "Group/GroupCM\n",
      "Group/GroupFirstSub\n",
      "Group/GroupGasMetalFractions\n",
      "Group/GroupGasMetallicity\n",
      "Group/GroupLen\n",
      "Group/GroupLenType\n",
      "Group/GroupMass\n",
      "Group/GroupMassType\n",
      "Group/GroupNsubs\n",
      "Group/GroupPos\n",
      "Group/GroupRadioLuminosity\n",
      "Group/GroupSFR\n",
      "Group/GroupStarMetalFractions\n",
      "Group/GroupStarMetallicity\n",
      "Group/GroupVel\n",
      "Group/GroupWindMass\n",
      "Group/GroupXrayLuminosity\n",
      "Group/Group_M_Crit200\n",
      "Group/Group_M_Crit500\n",
      "Group/Group_M_Mean200\n",
      "Group/Group_M_TopHat200\n",
      "Group/Group_R_Crit200\n",
      "Group/Group_R_Crit500\n",
      "Group/Group_R_Mean200\n",
      "Group/Group_R_TopHat200\n",
      "Header\n",
      "IDs\n",
      "Parameters\n",
      "Subhalo\n",
      "Subhalo/SubhaloBHMass\n",
      "Subhalo/SubhaloBHMdot\n",
      "Subhalo/SubhaloBfldDisk\n",
      "Subhalo/SubhaloBfldHalo\n",
      "Subhalo/SubhaloCM\n",
      "Subhalo/SubhaloGasMetalFractions\n",
      "Subhalo/SubhaloGasMetalFractionsHalfRad\n",
      "Subhalo/SubhaloGasMetalFractionsMaxRad\n",
      "Subhalo/SubhaloGasMetalFractionsSfr\n",
      "Subhalo/SubhaloGasMetalFractionsSfrWeighted\n",
      "Subhalo/SubhaloGasMetallicity\n",
      "Subhalo/SubhaloGasMetallicityHalfRad\n",
      "Subhalo/SubhaloGasMetallicityMaxRad\n",
      "Subhalo/SubhaloGasMetallicitySfr\n",
      "Subhalo/SubhaloGasMetallicitySfrWeighted\n",
      "Subhalo/SubhaloGrNr\n",
      "Subhalo/SubhaloHalfmassRad\n",
      "Subhalo/SubhaloHalfmassRadType\n",
      "Subhalo/SubhaloIDMostbound\n",
      "Subhalo/SubhaloLen\n",
      "Subhalo/SubhaloLenType\n",
      "Subhalo/SubhaloMass\n",
      "Subhalo/SubhaloMassInHalfRad\n",
      "Subhalo/SubhaloMassInHalfRadType\n",
      "Subhalo/SubhaloMassInMaxRad\n",
      "Subhalo/SubhaloMassInMaxRadType\n",
      "Subhalo/SubhaloMassInRad\n",
      "Subhalo/SubhaloMassInRadType\n",
      "Subhalo/SubhaloMassType\n",
      "Subhalo/SubhaloParent\n",
      "Subhalo/SubhaloPos\n",
      "Subhalo/SubhaloSFR\n",
      "Subhalo/SubhaloSFRinHalfRad\n",
      "Subhalo/SubhaloSFRinMaxRad\n",
      "Subhalo/SubhaloSFRinRad\n",
      "Subhalo/SubhaloSpin\n",
      "Subhalo/SubhaloStarMetalFractions\n",
      "Subhalo/SubhaloStarMetalFractionsHalfRad\n",
      "Subhalo/SubhaloStarMetalFractionsMaxRad\n",
      "Subhalo/SubhaloStarMetallicity\n",
      "Subhalo/SubhaloStarMetallicityHalfRad\n",
      "Subhalo/SubhaloStarMetallicityMaxRad\n",
      "Subhalo/SubhaloStellarPhotometrics\n",
      "Subhalo/SubhaloStellarPhotometricsMassInRad\n",
      "Subhalo/SubhaloStellarPhotometricsRad\n",
      "Subhalo/SubhaloVel\n",
      "Subhalo/SubhaloVelDisp\n",
      "Subhalo/SubhaloVmax\n",
      "Subhalo/SubhaloVmaxRad\n",
      "Subhalo/SubhaloWindMass\n"
     ]
    }
   ],
   "source": [
    "import h5py\n",
    "subhalo = h5py.File('/store/clues/HESTIA/RE_SIMS/8192/GAL_FOR/17_11/output_2x2.5Mpc/groups_127/fof_subhalo_tab_127.0.hdf5','r')\n",
    "\n",
    "def printname(name):\n",
    "    print (name)\n",
    "    \n",
    "subhalo.visit(printname)"
   ]
  },
  {
   "cell_type": "code",
   "execution_count": null,
   "metadata": {},
   "outputs": [],
   "source": [
    "%%time\n",
    "import gc\n",
    "import joblib\n",
    "import h5py\n",
    "import pathlib\n",
    "import numpy as np\n",
    "\n",
    "dir_path = pathlib.Path('/store/clues/HESTIA/RE_SIMS/8192/GAL_FOR/17_11/output_2x2.5Mpc/snapdir_127')\n",
    "\n",
    "\n",
    "def load(path):\n",
    "    with h5py.File(path,'r') as snap:\n",
    "        pstr = snap['PartType4/Coordinates'][()]\n",
    "        pdrk = snap['PartType1/Coordinates'][()]\n",
    "        pgas = snap['PartType0/Coordinates'][()]\n",
    "#         mstr = snap['PartType4/Masses'][()]\n",
    "        vstr = snap['PartType4/Velocities'][()]\n",
    "\n",
    "    return {'StrPos': pstr, 'DrkPos': pdrk, 'GasPos': pgas, 'StrVel': vstr}\n",
    "\n",
    "with joblib.Parallel(n_jobs=8) as P:\n",
    "    results = P(\n",
    "        joblib.delayed(load)(path)\n",
    "        for path in dir_path.glob('*.hdf5'))\n",
    "    \n",
    "# results = np.vstack(results)\n",
    "gc.collect()\n",
    "\n",
    "\n",
    "pos_str = np.concatenate([r['StrPos']for r in results])\n",
    "pos_drk = np.concatenate([r['DrkPos']for r in results])\n",
    "pos_gas = np.concatenate([r['GasPos']for r in results])\n",
    "vel_str = np.concatenate([r['StrVel']for r in results])"
   ]
  },
  {
   "cell_type": "code",
   "execution_count": null,
   "metadata": {},
   "outputs": [],
   "source": [
    "\n",
    "\n",
    "\n",
    "G = 4.299e-6 #kpc*(km/s)*Msol^-1\n",
    "\n",
    "r = np.concatenate(rstr,rgas,rdrk)\n",
    "m = np.concatenate(mstr,mgas,mdrk)\n",
    "\n",
    "psort = np.argsort(r)\n",
    "\n",
    "vol  = 4./3 * np.pi * r[psort]**3\n",
    "mass = m[psort]\n",
    "rho  = mass / vol\n",
    "\n",
    "rho_crit = 3*H**2 / (8*np.pi*G)\n",
    "\n",
    "mask, = np.where(rho < 200*rho_crit)\n",
    "Mvir = mvir[-1]"
   ]
  },
  {
   "cell_type": "code",
   "execution_count": 7,
   "metadata": {},
   "outputs": [
    {
     "data": {
      "text/plain": [
       "1.036928"
      ]
     },
     "execution_count": 7,
     "metadata": {},
     "output_type": "execute_result"
    }
   ],
   "source": [
    "3.2404e-17*3.2e7*1e9"
   ]
  },
  {
   "cell_type": "code",
   "execution_count": null,
   "metadata": {},
   "outputs": [],
   "source": [
    "h = 0.6777\n",
    "G = 4.299e-6 #kpc*(km/s)*Msol^-1\n",
    "a0 = 1\n",
    "H0 = h*100\n",
    "omega_lambda = 0.682\n",
    "omega_matter = 0.318\n",
    "omega0 = omega_matter + omega_lambda\n",
    "\n",
    "z = a0/aexp[isnap] - 1.\n",
    "Ht = H0*np.sqrt(omega_lambda+(1-omega0)*(1+z)**2+omega_matter*(1+z)**3)\n",
    "time = tiempo.conv(z, h, omega_lambda, omega_matter)\n",
    "\n",
    "#---aca paso las coordenadas respecto al centro de la galaxia------\n",
    "xstr = (pstr[:,0]-cm[0])*aexp[isnap]/h\n",
    "ystr = (pstr[:,1]-cm[1])*aexp[isnap]/h\n",
    "zstr = (pstr[:,2]-cm[2])*aexp[isnap]/h\n",
    "\n",
    "v_x = vel[:,0] *np.sqrt(aexp[isnap]) + Ht *xstr/1000.\n",
    "v_y = vel[:,1] *np.sqrt(aexp[isnap]) + Ht *ystr/1000.\n",
    "v_z = vel[:,2] *np.sqrt(aexp[isnap]) + Ht *zstr/1000."
   ]
  }
 ],
 "metadata": {
  "kernelspec": {
   "display_name": "Python 3",
   "language": "python",
   "name": "python3"
  },
  "language_info": {
   "codemirror_mode": {
    "name": "ipython",
    "version": 3
   },
   "file_extension": ".py",
   "mimetype": "text/x-python",
   "name": "python",
   "nbconvert_exporter": "python",
   "pygments_lexer": "ipython3",
   "version": "3.7.4"
  }
 },
 "nbformat": 4,
 "nbformat_minor": 4
}
