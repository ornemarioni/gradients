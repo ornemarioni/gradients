{
 "cells": [
  {
   "cell_type": "code",
   "execution_count": 1,
   "metadata": {},
   "outputs": [
    {
     "name": "stdout",
     "output_type": "stream",
     "text": [
      "Populating the interactive namespace from numpy and matplotlib\n"
     ]
    }
   ],
   "source": [
    "%pylab inline"
   ]
  },
  {
   "cell_type": "code",
   "execution_count": 2,
   "metadata": {
    "scrolled": true
   },
   "outputs": [
    {
     "name": "stdout",
     "output_type": "stream",
     "text": [
      "Config\n",
      "Group\n",
      "Group/GroupBHMass\n",
      "Group/GroupBHMdot\n",
      "Group/GroupCM\n",
      "Group/GroupFirstSub\n",
      "Group/GroupGasMetalFractions\n",
      "Group/GroupGasMetallicity\n",
      "Group/GroupLen\n",
      "Group/GroupLenType\n",
      "Group/GroupMass\n",
      "Group/GroupMassType\n",
      "Group/GroupNsubs\n",
      "Group/GroupPos\n",
      "Group/GroupRadioLuminosity\n",
      "Group/GroupSFR\n",
      "Group/GroupStarMetalFractions\n",
      "Group/GroupStarMetallicity\n",
      "Group/GroupVel\n",
      "Group/GroupWindMass\n",
      "Group/GroupXrayLuminosity\n",
      "Group/Group_M_Crit200\n",
      "Group/Group_M_Crit500\n",
      "Group/Group_M_Mean200\n",
      "Group/Group_M_TopHat200\n",
      "Group/Group_R_Crit200\n",
      "Group/Group_R_Crit500\n",
      "Group/Group_R_Mean200\n",
      "Group/Group_R_TopHat200\n",
      "Header\n",
      "IDs\n",
      "Parameters\n",
      "Subhalo\n",
      "Subhalo/SubhaloBHMass\n",
      "Subhalo/SubhaloBHMdot\n",
      "Subhalo/SubhaloBfldDisk\n",
      "Subhalo/SubhaloBfldHalo\n",
      "Subhalo/SubhaloCM\n",
      "Subhalo/SubhaloGasMetalFractions\n",
      "Subhalo/SubhaloGasMetalFractionsHalfRad\n",
      "Subhalo/SubhaloGasMetalFractionsMaxRad\n",
      "Subhalo/SubhaloGasMetalFractionsSfr\n",
      "Subhalo/SubhaloGasMetalFractionsSfrWeighted\n",
      "Subhalo/SubhaloGasMetallicity\n",
      "Subhalo/SubhaloGasMetallicityHalfRad\n",
      "Subhalo/SubhaloGasMetallicityMaxRad\n",
      "Subhalo/SubhaloGasMetallicitySfr\n",
      "Subhalo/SubhaloGasMetallicitySfrWeighted\n",
      "Subhalo/SubhaloGrNr\n",
      "Subhalo/SubhaloHalfmassRad\n",
      "Subhalo/SubhaloHalfmassRadType\n",
      "Subhalo/SubhaloIDMostbound\n",
      "Subhalo/SubhaloLen\n",
      "Subhalo/SubhaloLenType\n",
      "Subhalo/SubhaloMass\n",
      "Subhalo/SubhaloMassInHalfRad\n",
      "Subhalo/SubhaloMassInHalfRadType\n",
      "Subhalo/SubhaloMassInMaxRad\n",
      "Subhalo/SubhaloMassInMaxRadType\n",
      "Subhalo/SubhaloMassInRad\n",
      "Subhalo/SubhaloMassInRadType\n",
      "Subhalo/SubhaloMassType\n",
      "Subhalo/SubhaloParent\n",
      "Subhalo/SubhaloPos\n",
      "Subhalo/SubhaloSFR\n",
      "Subhalo/SubhaloSFRinHalfRad\n",
      "Subhalo/SubhaloSFRinMaxRad\n",
      "Subhalo/SubhaloSFRinRad\n",
      "Subhalo/SubhaloSpin\n",
      "Subhalo/SubhaloStarMetalFractions\n",
      "Subhalo/SubhaloStarMetalFractionsHalfRad\n",
      "Subhalo/SubhaloStarMetalFractionsMaxRad\n",
      "Subhalo/SubhaloStarMetallicity\n",
      "Subhalo/SubhaloStarMetallicityHalfRad\n",
      "Subhalo/SubhaloStarMetallicityMaxRad\n",
      "Subhalo/SubhaloStellarPhotometrics\n",
      "Subhalo/SubhaloStellarPhotometricsMassInRad\n",
      "Subhalo/SubhaloStellarPhotometricsRad\n",
      "Subhalo/SubhaloVel\n",
      "Subhalo/SubhaloVelDisp\n",
      "Subhalo/SubhaloVmax\n",
      "Subhalo/SubhaloVmaxRad\n",
      "Subhalo/SubhaloWindMass\n"
     ]
    }
   ],
   "source": [
    "import h5py\n",
    "subhalo = h5py.File('/store/clues/HESTIA/RE_SIMS/8192/GAL_FOR/17_11/output_2x2.5Mpc/groups_127/fof_subhalo_tab_127.0.hdf5','r')\n",
    "\n",
    "def printname(name):\n",
    "    print (name)\n",
    "    \n",
    "subhalo.visit(printname)"
   ]
  },
  {
   "cell_type": "code",
   "execution_count": 29,
   "metadata": {},
   "outputs": [
    {
     "name": "stdout",
     "output_type": "stream",
     "text": [
      "CPU times: user 11.7 s, sys: 45.1 s, total: 56.7 s\n",
      "Wall time: 1min 8s\n"
     ]
    },
    {
     "data": {
      "text/plain": [
       "150"
      ]
     },
     "execution_count": 29,
     "metadata": {},
     "output_type": "execute_result"
    }
   ],
   "source": [
    "%%time\n",
    "import gc\n",
    "import joblib\n",
    "import h5py\n",
    "import pathlib\n",
    "import numpy as np\n",
    "\n",
    "dir_path = pathlib.Path('/store/clues/HESTIA/RE_SIMS/8192/GAL_FOR/17_11/output_2x2.5Mpc/snapdir_127')\n",
    "\n",
    "\n",
    "def load(path):\n",
    "    with h5py.File(path,'r') as snap:\n",
    "        pstr = snap['PartType4/Coordinates'][()]\n",
    "        pdrk = snap['PartType1/Coordinates'][()]\n",
    "        pgas = snap['PartType0/Coordinates'][()]\n",
    "        mstr = snap['PartType4/Masses'][()]\n",
    "        mdrk = snap['PartType1/Masses'][()]\n",
    "        mgas = snap['PartType0/Masses'][()]\n",
    "        \n",
    "        a = snap.get('Header').attrs['Time']\n",
    "        h = snap.get('Header').attrs['HubbleParam']\n",
    "\n",
    "\n",
    "    return {'StrPos' : pstr, \n",
    "            'DrkPos' : pdrk, \n",
    "            'GasPos' : pgas, \n",
    "            'StrMass': mstr,\n",
    "            'DrkMass': mdrk,\n",
    "            'GasMass': mgas,\n",
    "            'aexp'   : a,\n",
    "            'h'      : h}\n",
    "\n",
    "with joblib.Parallel(n_jobs=8) as P:\n",
    "    results = P(\n",
    "        joblib.delayed(load)(path)\n",
    "        for path in dir_path.glob('*.hdf5'))\n",
    "    \n",
    "# results = np.vstack(results)\n",
    "\n",
    "gc.collect()"
   ]
  },
  {
   "cell_type": "code",
   "execution_count": 30,
   "metadata": {},
   "outputs": [],
   "source": [
    "aexp = results[0]['aexp']\n",
    "h    = results[0]['h']\n",
    "\n",
    "pos_str  = np.concatenate([r['StrPos']for r in results])\n",
    "pos_drk  = np.concatenate([r['DrkPos']for r in results])\n",
    "pos_gas  = np.concatenate([r['GasPos']for r in results])\n",
    "\n",
    "pos_str = pos_str*aexp*1000/h\n",
    "pos_drk = pos_drk*aexp*1000/h\n",
    "pos_gas = pos_gas*aexp*1000/h\n",
    "\n",
    "mass_str = np.concatenate([r['StrMass']for r in results])\n",
    "mass_drk = np.concatenate([r['DrkMass']for r in results])\n",
    "mass_gas = np.concatenate([r['GasMass']for r in results])\n",
    "\n",
    "mstr = mass_str*1e10/h\n",
    "mdrk = mass_drk*1e10/h\n",
    "mgas = mass_gas*1e10/h\n"
   ]
  },
  {
   "cell_type": "code",
   "execution_count": 31,
   "metadata": {},
   "outputs": [
    {
     "name": "stdout",
     "output_type": "stream",
     "text": [
      "CPU times: user 77.3 ms, sys: 1.79 s, total: 1.87 s\n",
      "Wall time: 1.87 s\n"
     ]
    },
    {
     "data": {
      "text/plain": [
       "142"
      ]
     },
     "execution_count": 31,
     "metadata": {},
     "output_type": "execute_result"
    }
   ],
   "source": [
    "%%time\n",
    "import gc\n",
    "import joblib\n",
    "import h5py\n",
    "import pathlib\n",
    "import numpy as np\n",
    "\n",
    "dir_path = pathlib.Path('/store/clues/HESTIA/RE_SIMS/8192/GAL_FOR/17_11/output_2x2.5Mpc/groups_127')\n",
    "\n",
    "\n",
    "def load(path):\n",
    "    with h5py.File(path,'r') as snap:\n",
    "        sub_mass = snap['Subhalo/SubhaloMass'][()]\n",
    "        sub_pos  = snap['Subhalo/SubhaloPos'][()]\n",
    "        \n",
    "        Omega0   = snap.get('Header').attrs['Omega0']\n",
    "        OmegaL   = snap.get('Header').attrs['OmegaLambda']\n",
    "        Redshift = snap.get('Header').attrs['Redshift']\n",
    "    \n",
    "    return {'SubMass': sub_mass, \n",
    "            'SubPos' : sub_pos,\n",
    "            \n",
    "            'Omega0'  : Omega0,\n",
    "            'OmegaL'  : OmegaL,\n",
    "            'Redshift': Redshift}\n",
    "\n",
    "with joblib.Parallel(n_jobs=8) as P:\n",
    "    results = P(\n",
    "        joblib.delayed(load)(path)\n",
    "        for path in dir_path.glob('*.hdf5'))\n",
    "    \n",
    "# results = np.vstack(results)\n",
    "gc.collect()"
   ]
  },
  {
   "cell_type": "code",
   "execution_count": 32,
   "metadata": {},
   "outputs": [],
   "source": [
    "Smass = np.concatenate([r['SubMass']for r in results])\n",
    "Spos  = np.concatenate([r['SubPos']for r in results])\n",
    "\n",
    "sort = np.argsort(Smass)\n",
    "\n",
    "SMASS = Smass[sort][::-1]*1e10/h\n",
    "SPOS  = Spos*aexp*1000/h"
   ]
  },
  {
   "cell_type": "code",
   "execution_count": null,
   "metadata": {},
   "outputs": [
    {
     "name": "stdout",
     "output_type": "stream",
     "text": [
      "subhalo 000 Mvir =  1868064227328.00000000 Rvir =  259.55519224\n",
      "subhalo 001 Mvir =  183293755392.00000000 Rvir =  119.71459669\n",
      "subhalo 002 Mvir =  1567603294208.00000000 Rvir =  244.81774658\n",
      "subhalo 003 Mvir =  118834708480.00000000 Rvir =  103.61249580\n",
      "subhalo 004 Mvir =  28163397632.00000000 Rvir =   64.11993422\n",
      "subhalo 005 Mvir =  153759072256.00000000 Rvir =  112.90448575\n",
      "subhalo 006 Mvir =  1830560858112.00000000 Rvir =  257.80813759\n",
      "subhalo 007 Mvir =  1752400265216.00000000 Rvir =  254.08320695\n",
      "subhalo 008 Mvir =  3358010368.00000000 Rvir =   31.56067114\n",
      "subhalo 009 Mvir =  18452619264.00000000 Rvir =   55.69103455\n",
      "subhalo 010 Mvir =  3871873024.00000000 Rvir =   33.09630826\n"
     ]
    }
   ],
   "source": [
    "%%time\n",
    "\n",
    "import numpy as np\n",
    "import gc\n",
    "\n",
    "G = 4.299e-6 #kpc*(km/s)*Msol^-1\n",
    "\n",
    "H0 = 100*h #km/s/Mpc\n",
    "\n",
    "omega_matter = results[0]['Omega0']\n",
    "omega_lambda = results[0]['OmegaL']\n",
    "omega0 = omega_matter + omega_lambda\n",
    "\n",
    "z = results[0]['Redshift']\n",
    "\n",
    "nsub = 100\n",
    "Mvir = np.zeros(nsub)\n",
    "Rvir = np.zeros(nsub)\n",
    "\n",
    "for i in range(nsub):\n",
    "    \n",
    "    xstr = pos_str[:,0] - SPOS[i,0]\n",
    "    ystr = pos_str[:,1] - SPOS[i,1]\n",
    "    zstr = pos_str[:,2] - SPOS[i,2]\n",
    "    rstr = np.sqrt(xstr**2 + ystr**2 + zstr**2)\n",
    "\n",
    "    xdrk = pos_drk[:,0] - SPOS[i,0]\n",
    "    ydrk = pos_drk[:,1] - SPOS[i,1]\n",
    "    zdrk = pos_drk[:,2] - SPOS[i,2]\n",
    "    rdrk = np.sqrt(xdrk**2 + ydrk**2 + zdrk**2)\n",
    "    \n",
    "    xgas = pos_gas[:,0] - SPOS[i,0]\n",
    "    ygas = pos_gas[:,1] - SPOS[i,1]\n",
    "    zgas = pos_gas[:,2] - SPOS[i,2]\n",
    "    rgas = np.sqrt(xgas**2 + ygas**2 + zgas**2)\n",
    "    \n",
    "    st, = np.where(rstr < 250)\n",
    "    dm, = np.where(rdrk < 250)\n",
    "    gs, = np.where(rstr < 250)\n",
    "    \n",
    "    r = np.concatenate([rstr[st], rgas[gs], rdrk[dm]])\n",
    "    m = np.concatenate([mstr[st], mgas[gs], mdrk[dm]])\n",
    "\n",
    "    psort = np.argsort(r)\n",
    "\n",
    "    vol  = 4./3 * np.pi * r[psort]**3\n",
    "    mass = np.cumsum(m[psort])\n",
    "    rho  = mass / vol\n",
    "\n",
    "    H0_kpc = H0/1000 #paso a kpc\n",
    "    \n",
    "    Ht = H0_kpc*np.sqrt(omega_lambda+(1-omega0)*(1+z)**2+omega_matter*(1+z)**3)\n",
    "    \n",
    "    rho_crit = 3*Ht**2 / (8*np.pi*G)\n",
    "\n",
    "    mask, = np.where(rho < 200*rho_crit)\n",
    "    \n",
    "    Mvir[i] = mass[mask][0]\n",
    "    Rvir[i] = r[psort][mask][0] \n",
    "    \n",
    "    print ('subhalo', str('%03d'%i), 'Mvir = ', str('%12.8f'%Mvir[i]), 'Rvir = ', str('%12.8f'%Rvir[i]))\n",
    "    \n",
    "    gc.collect()\n",
    "    "
   ]
  },
  {
   "cell_type": "code",
   "execution_count": 17,
   "metadata": {},
   "outputs": [
    {
     "data": {
      "text/plain": [
       "127.58094145367797"
      ]
     },
     "execution_count": 17,
     "metadata": {},
     "output_type": "execute_result"
    }
   ],
   "source": [
    "(1.88e-29)*h**2 *(3.086e21)**3 / (1.989e33) "
   ]
  },
  {
   "cell_type": "code",
   "execution_count": 39,
   "metadata": {},
   "outputs": [
    {
     "name": "stdout",
     "output_type": "stream",
     "text": [
      "25504.62350081994\n"
     ]
    }
   ],
   "source": [
    "print (rho_crit*200)"
   ]
  },
  {
   "cell_type": "code",
   "execution_count": 41,
   "metadata": {},
   "outputs": [
    {
     "name": "stdout",
     "output_type": "stream",
     "text": [
      "[  259.55519224   259.58658917   259.59027663 ... 90929.78325109\n",
      " 91228.94830954 91241.25829807]\n"
     ]
    }
   ],
   "source": [
    "print (r[psort][mask])"
   ]
  },
  {
   "cell_type": "code",
   "execution_count": null,
   "metadata": {},
   "outputs": [],
   "source": [
    "for i in range(100):\n",
    "    print (SMASS[i], Mvir[i])"
   ]
  },
  {
   "cell_type": "code",
   "execution_count": null,
   "metadata": {},
   "outputs": [],
   "source": [
    "\n",
    "r = np.concatenate(rstr,rgas,rdrk)\n",
    "m = np.concatenate(mstr,mgas,mdrk)\n",
    "\n",
    "psort = np.argsort(r)\n",
    "\n",
    "vol  = 4./3 * np.pi * r[psort]**3\n",
    "mass = m[psort]\n",
    "rho  = mass / vol\n",
    "\n",
    "rho_crit = 3*H**2 / (8*np.pi*G)\n",
    "\n",
    "mask, = np.where(rho < 200*rho_crit)\n",
    "Mvir = mvir[-1]"
   ]
  },
  {
   "cell_type": "code",
   "execution_count": null,
   "metadata": {},
   "outputs": [],
   "source": [
    "h = 0.6777\n",
    "G = 4.299e-6 #kpc*(km/s)*Msol^-1\n",
    "a0 = 1\n",
    "H0 = h*100\n",
    "omega_lambda = 0.682\n",
    "omega_matter = 0.318\n",
    "omega0 = omega_matter + omega_lambda\n",
    "\n",
    "z = a0/aexp[isnap] - 1.\n",
    "Ht = H0*np.sqrt(omega_lambda+(1-omega0)*(1+z)**2+omega_matter*(1+z)**3)\n",
    "time = tiempo.conv(z, h, omega_lambda, omega_matter)\n",
    "\n",
    "#---aca paso las coordenadas respecto al centro de la galaxia------\n",
    "xstr = (pstr[:,0]-cm[0])*aexp[isnap]/h\n",
    "ystr = (pstr[:,1]-cm[1])*aexp[isnap]/h\n",
    "zstr = (pstr[:,2]-cm[2])*aexp[isnap]/h\n",
    "\n",
    "v_x = vel[:,0] *np.sqrt(aexp[isnap]) + Ht *xstr/1000.\n",
    "v_y = vel[:,1] *np.sqrt(aexp[isnap]) + Ht *ystr/1000.\n",
    "v_z = vel[:,2] *np.sqrt(aexp[isnap]) + Ht *zstr/1000."
   ]
  }
 ],
 "metadata": {
  "kernelspec": {
   "display_name": "Python 3",
   "language": "python",
   "name": "python3"
  },
  "language_info": {
   "codemirror_mode": {
    "name": "ipython",
    "version": 3
   },
   "file_extension": ".py",
   "mimetype": "text/x-python",
   "name": "python",
   "nbconvert_exporter": "python",
   "pygments_lexer": "ipython3",
   "version": "3.7.4"
  }
 },
 "nbformat": 4,
 "nbformat_minor": 4
}
