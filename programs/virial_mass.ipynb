{
 "cells": [
  {
   "cell_type": "code",
   "execution_count": 1,
   "metadata": {},
   "outputs": [
    {
     "name": "stdout",
     "output_type": "stream",
     "text": [
      "Populating the interactive namespace from numpy and matplotlib\n"
     ]
    }
   ],
   "source": [
    "%pylab inline"
   ]
  },
  {
   "cell_type": "code",
   "execution_count": 5,
   "metadata": {},
   "outputs": [
    {
     "name": "stdout",
     "output_type": "stream",
     "text": [
      "Config\n",
      "Group\n",
      "Group/GroupBHMass\n",
      "Group/GroupBHMdot\n",
      "Group/GroupCM\n",
      "Group/GroupFirstSub\n",
      "Group/GroupGasMetalFractions\n",
      "Group/GroupGasMetallicity\n",
      "Group/GroupLen\n",
      "Group/GroupLenType\n",
      "Group/GroupMass\n",
      "Group/GroupMassType\n",
      "Group/GroupNsubs\n",
      "Group/GroupPos\n",
      "Group/GroupRadioLuminosity\n",
      "Group/GroupSFR\n",
      "Group/GroupStarMetalFractions\n",
      "Group/GroupStarMetallicity\n",
      "Group/GroupVel\n",
      "Group/GroupWindMass\n",
      "Group/GroupXrayLuminosity\n",
      "Group/Group_M_Crit200\n",
      "Group/Group_M_Crit500\n",
      "Group/Group_M_Mean200\n",
      "Group/Group_M_TopHat200\n",
      "Group/Group_R_Crit200\n",
      "Group/Group_R_Crit500\n",
      "Group/Group_R_Mean200\n",
      "Group/Group_R_TopHat200\n",
      "Header\n",
      "IDs\n",
      "Parameters\n",
      "Subhalo\n",
      "Subhalo/SubhaloBHMass\n",
      "Subhalo/SubhaloBHMdot\n",
      "Subhalo/SubhaloBfldDisk\n",
      "Subhalo/SubhaloBfldHalo\n",
      "Subhalo/SubhaloCM\n",
      "Subhalo/SubhaloGasMetalFractions\n",
      "Subhalo/SubhaloGasMetalFractionsHalfRad\n",
      "Subhalo/SubhaloGasMetalFractionsMaxRad\n",
      "Subhalo/SubhaloGasMetalFractionsSfr\n",
      "Subhalo/SubhaloGasMetalFractionsSfrWeighted\n",
      "Subhalo/SubhaloGasMetallicity\n",
      "Subhalo/SubhaloGasMetallicityHalfRad\n",
      "Subhalo/SubhaloGasMetallicityMaxRad\n",
      "Subhalo/SubhaloGasMetallicitySfr\n",
      "Subhalo/SubhaloGasMetallicitySfrWeighted\n",
      "Subhalo/SubhaloGrNr\n",
      "Subhalo/SubhaloHalfmassRad\n",
      "Subhalo/SubhaloHalfmassRadType\n",
      "Subhalo/SubhaloIDMostbound\n",
      "Subhalo/SubhaloLen\n",
      "Subhalo/SubhaloLenType\n",
      "Subhalo/SubhaloMass\n",
      "Subhalo/SubhaloMassInHalfRad\n",
      "Subhalo/SubhaloMassInHalfRadType\n",
      "Subhalo/SubhaloMassInMaxRad\n",
      "Subhalo/SubhaloMassInMaxRadType\n",
      "Subhalo/SubhaloMassInRad\n",
      "Subhalo/SubhaloMassInRadType\n",
      "Subhalo/SubhaloMassType\n",
      "Subhalo/SubhaloParent\n",
      "Subhalo/SubhaloPos\n",
      "Subhalo/SubhaloSFR\n",
      "Subhalo/SubhaloSFRinHalfRad\n",
      "Subhalo/SubhaloSFRinMaxRad\n",
      "Subhalo/SubhaloSFRinRad\n",
      "Subhalo/SubhaloSpin\n",
      "Subhalo/SubhaloStarMetalFractions\n",
      "Subhalo/SubhaloStarMetalFractionsHalfRad\n",
      "Subhalo/SubhaloStarMetalFractionsMaxRad\n",
      "Subhalo/SubhaloStarMetallicity\n",
      "Subhalo/SubhaloStarMetallicityHalfRad\n",
      "Subhalo/SubhaloStarMetallicityMaxRad\n",
      "Subhalo/SubhaloStellarPhotometrics\n",
      "Subhalo/SubhaloStellarPhotometricsMassInRad\n",
      "Subhalo/SubhaloStellarPhotometricsRad\n",
      "Subhalo/SubhaloVel\n",
      "Subhalo/SubhaloVelDisp\n",
      "Subhalo/SubhaloVmax\n",
      "Subhalo/SubhaloVmaxRad\n",
      "Subhalo/SubhaloWindMass\n"
     ]
    }
   ],
   "source": [
    "import h5py\n",
    "subhalo = h5py.File('/store/clues/HESTIA/RE_SIMS/8192/GAL_FOR/17_11/output_2x2.5Mpc/groups_127/fof_subhalo_tab_127.0.hdf5','r')\n",
    "\n",
    "def printname(name):\n",
    "    print (name)\n",
    "    \n",
    "subhalo.visit(printname)"
   ]
  },
  {
   "cell_type": "code",
   "execution_count": null,
   "metadata": {},
   "outputs": [],
   "source": [
    "Omega0                                            0.318\n",
    "OmegaLambda                                       0.682\n",
    "OmegaBaryon                                       0.048\n",
    "HubbleParam                                       0.6777"
   ]
  },
  {
   "cell_type": "code",
   "execution_count": null,
   "metadata": {},
   "outputs": [],
   "source": [
    "'/store/clues/HESTIA/RE_SIMS/8192/GAL_FOR/17_11/output_2x2.5Mpc/parameters-usedvalues'\n",
    "\n",
    "UnitLength_in_cm                                  3.08568e+24\n",
    "UnitMass_in_g                                     1.989e+43\n",
    "UnitVelocity_in_cm_per_s                          100000\n",
    "GasSoftFactor                                     2.8\n",
    "\n",
    "AdaptiveHydroSofteningSpacing                     1.2\n",
    "SofteningComovingType0                            0.000244\n",
    "SofteningComovingType1                            0.000244\n",
    "SofteningComovingType2                            0.000488\n",
    "SofteningComovingType3                            0.000977\n",
    "SofteningComovingType4                            0.001953\n",
    "SofteningComovingType5                            0.003906\n",
    "SofteningComovingType6                            0.007812\n",
    "SofteningMaxPhysType0                             0.000122\n",
    "SofteningMaxPhysType1                             0.000122\n",
    "SofteningMaxPhysType2                             0.000244\n",
    "SofteningMaxPhysType3                             0.000488\n",
    "SofteningMaxPhysType4                             0.000977\n",
    "SofteningMaxPhysType5                             0.001953\n",
    "SofteningMaxPhysType6                             0.003906\n",
    "SofteningTypeOfPartType0                          0\n",
    "SofteningTypeOfPartType1                          1\n",
    "SofteningTypeOfPartType2                          2\n",
    "SofteningTypeOfPartType3                          3\n",
    "SofteningTypeOfPartType4                          1\n",
    "SofteningTypeOfPartType5                          1\n",
    "SofteningTypeOfPartType6                          3"
   ]
  },
  {
   "cell_type": "code",
   "execution_count": null,
   "metadata": {},
   "outputs": [],
   "source": [
    "h = 0.6777\n",
    "G = 4.299e-6 #kpc*(km/s)*Msol^-1\n",
    "a0 = 1\n",
    "H0 = h*100\n",
    "omega_lambda = 0.682\n",
    "omega0 = 0.318\n",
    "omega_matter = omega0 - omega_lambda\n",
    "\n",
    "z = a0/aexp[isnap] - 1.\n",
    "Ht = H0*np.sqrt(omega_lambda+(1-omega0)*(1+z)**2+omega_matter*(1+z)**3)\n",
    "time = tiempo.conv(z, h, omega_lambda, omega_matter)\n",
    "\n",
    "#---aca paso las coordenadas respecto al centro de la galaxia------\n",
    "xstr = (pstr[:,0]-cm[0])*aexp[isnap]/h\n",
    "ystr = (pstr[:,1]-cm[1])*aexp[isnap]/h\n",
    "zstr = (pstr[:,2]-cm[2])*aexp[isnap]/h\n",
    "\n",
    "v_x = vel[:,0] *np.sqrt(aexp[isnap]) + Ht *xstr/1000.\n",
    "v_y = vel[:,1] *np.sqrt(aexp[isnap]) + Ht *ystr/1000.\n",
    "v_z = vel[:,2] *np.sqrt(aexp[isnap]) + Ht *zstr/1000."
   ]
  }
 ],
 "metadata": {
  "kernelspec": {
   "display_name": "Python 3",
   "language": "python",
   "name": "python3"
  },
  "language_info": {
   "codemirror_mode": {
    "name": "ipython",
    "version": 3
   },
   "file_extension": ".py",
   "mimetype": "text/x-python",
   "name": "python",
   "nbconvert_exporter": "python",
   "pygments_lexer": "ipython3",
   "version": "3.7.4"
  }
 },
 "nbformat": 4,
 "nbformat_minor": 4
}
