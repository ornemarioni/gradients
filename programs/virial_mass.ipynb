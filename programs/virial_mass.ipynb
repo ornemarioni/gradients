{
 "cells": [
  {
   "cell_type": "markdown",
   "metadata": {},
   "source": [
    "### Leo los archivos de los subhalos\n",
    "\n",
    "Concateno los 8 archivos: saco masas, posicion y radio"
   ]
  },
  {
   "cell_type": "code",
   "execution_count": 2,
   "metadata": {},
   "outputs": [
    {
     "name": "stdout",
     "output_type": "stream",
     "text": [
      "CPU times: user 149 ms, sys: 87.3 ms, total: 236 ms\n",
      "Wall time: 259 ms\n"
     ]
    },
    {
     "data": {
      "text/plain": [
       "0"
      ]
     },
     "execution_count": 2,
     "metadata": {},
     "output_type": "execute_result"
    }
   ],
   "source": [
    "%%time\n",
    "import gc\n",
    "import joblib\n",
    "import h5py\n",
    "import numpy as np \n",
    "\n",
    "\n",
    "dir_path = '/store/clues/HESTIA/RE_SIMS/8192/GAL_FOR/17_11/output_2x2.5Mpc/groups_127/'\n",
    "\n",
    "SubhMass = []\n",
    "SubhPos  = []\n",
    "# SubhMTy  = []\n",
    "SubhR50  = []\n",
    "\n",
    "for i in range(0,8):\n",
    "    \n",
    "    snap = h5py.File(dir_path + 'fof_subhalo_tab_127.'+ str('%s'%i) +'.hdf5','r')\n",
    "\n",
    "    sub_mass = snap['Subhalo/SubhaloMass'][()]\n",
    "    sub_pos  = snap['Subhalo/SubhaloPos'][()]\n",
    "#     sub_mty  = snap['Subhalo/SubhaloMassType'][()]\n",
    "    sub_r50  = snap['Subhalo/SubhaloHalfmassRad'][()]\n",
    "\n",
    "    SubhMass.append(sub_mass)\n",
    "    SubhPos.append(sub_pos)\n",
    "#     SubhMTy.append(sub_mty)\n",
    "    SubhR50.append(sub_r50)\n",
    "\n",
    "SubhMass = np.concatenate(SubhMass)\n",
    "SubhPos  = np.concatenate(SubhPos)\n",
    "# SubhMTy  = np.concatenate(SubhMTy)\n",
    "SubhR50  = np.concatenate(SubhR50)\n",
    "\n",
    "gc.collect()"
   ]
  },
  {
   "cell_type": "markdown",
   "metadata": {},
   "source": [
    "#### Los ordeno por masa, saco los 10 mas masivos"
   ]
  },
  {
   "cell_type": "code",
   "execution_count": 3,
   "metadata": {},
   "outputs": [
    {
     "name": "stdout",
     "output_type": "stream",
     "text": [
      "(81461, 3)\n",
      "[1.5752759e+12 1.1699873e+12 5.7578933e+11 5.5521280e+11 2.3570245e+11\n",
      " 1.8116307e+11 1.6131521e+11 1.4867379e+11 1.4413586e+11 1.4381996e+11]\n",
      "[0.06842346 0.04551199 0.05081347 0.0416441  0.02460471 0.01982324\n",
      " 0.02079998 0.02245608 0.02539282 0.02286837]\n"
     ]
    }
   ],
   "source": [
    "import numpy as np\n",
    "\n",
    "print (np.shape(SubhPos))\n",
    "\n",
    "sort = np.argsort(SubhMass)\n",
    "\n",
    "SMass = SubhMass[sort][::-1]*1e10\n",
    "# SMTy  = SubhMTy[sort][::-1]*1e10\n",
    "SR50  = SubhR50[sort][::-1]\n",
    "\n",
    "print (SMass[:10])\n",
    "# print (SMTy[:10])\n",
    "print (SR50[:10])"
   ]
  },
  {
   "cell_type": "markdown",
   "metadata": {},
   "source": [
    "#### Posiciones de los 10 mas masivos "
   ]
  },
  {
   "cell_type": "code",
   "execution_count": 4,
   "metadata": {},
   "outputs": [
    {
     "name": "stdout",
     "output_type": "stream",
     "text": [
      "[[48.81521  46.704514 53.605064]\n",
      " [48.71576  47.06235  53.33718 ]\n",
      " [46.974728 49.455475 51.771206]\n",
      " [47.528534 46.364803 54.832882]\n",
      " [47.325207 47.259197 51.91327 ]\n",
      " [47.791496 47.55743  53.327   ]\n",
      " [47.41012  48.306732 52.663097]\n",
      " [49.867104 47.25419  52.225414]\n",
      " [45.62381  46.928238 54.103687]\n",
      " [48.525105 48.03401  51.99552 ]]\n"
     ]
    }
   ],
   "source": [
    "H_pos = SubhPos[sort][::-1]\n",
    "print (H_pos[:10,:])"
   ]
  },
  {
   "cell_type": "markdown",
   "metadata": {},
   "source": [
    "#### Leo las particulas del snapshot "
   ]
  },
  {
   "cell_type": "code",
   "execution_count": 1,
   "metadata": {},
   "outputs": [],
   "source": [
    "import numpy as np\n",
    "path = '/store/clues/HESTIA/RE_SIMS/8192/GAL_FOR/17_11/AHF_output_2x2.5Mpc/'\n",
    "data = np.loadtxt(path + 'HESTIA_100Mpc_8192_17_11.127.z0.000.AHF_halos')\n",
    "\n",
    "ID   = data[:,0]\n",
    "Mvir = data[:,3]\n",
    "Xc   = data[:,5]\n",
    "Yc   = data[:,6]\n",
    "Zc   = data[:,7]\n",
    "Rvir = data[:,11]\n",
    "fMhires = data[:,37]\n",
    "\n",
    "hires = np.where(fMhires > 0.9999)\n",
    "IDs   = ID[hires]\n",
    "M_vir = Mvir[hires]\n",
    "X_c   = Xc[hires]\n",
    "Y_c   = Yc[hires]\n",
    "Z_c   = Zc[hires]\n",
    "R_vir = Rvir[hires]\n",
    "\n",
    "mask = np.argsort(M_vir)\n",
    "\n",
    "MVir_AHF = M_vir[mask][::-1]\n",
    "RVir_AHF = R_vir[mask][::-1]\n",
    "Id_AHF   = IDs[mask][::-1]\n",
    "Xc_AHF   = X_c[mask][::-1]\n",
    "Yc_AHF   = Y_c[mask][::-1]\n",
    "Zc_AHF   = Z_c[mask][::-1]"
   ]
  },
  {
   "cell_type": "code",
   "execution_count": 2,
   "metadata": {},
   "outputs": [
    {
     "name": "stdout",
     "output_type": "stream",
     "text": [
      "CPU times: user 2.77 s, sys: 16.6 s, total: 19.4 s\n",
      "Wall time: 24.4 s\n"
     ]
    },
    {
     "data": {
      "text/plain": [
       "0"
      ]
     },
     "execution_count": 2,
     "metadata": {},
     "output_type": "execute_result"
    }
   ],
   "source": [
    "%%time\n",
    "import gc\n",
    "import joblib\n",
    "import h5py\n",
    "import pathlib\n",
    "import numpy as np\n",
    "\n",
    "dir_path = '/store/clues/HESTIA/RE_SIMS/8192/GAL_FOR/17_11/output_2x2.5Mpc/snapdir_127/'\n",
    "\n",
    "StrPos  = []\n",
    "StrMass = []\n",
    "\n",
    "GasPos  = []\n",
    "GasMass = []\n",
    "\n",
    "DrkPos  = []\n",
    "DrkMass = []\n",
    "\n",
    "\n",
    "for i in range(0,8):\n",
    "    snap = h5py.File(dir_path + 'snapshot_127.'+ str('%s'%i) +'.hdf5','r')\n",
    "    \n",
    "    #stars\n",
    "    pos_str    = snap['PartType4/Coordinates'][()]\n",
    "    mass_str   = snap['PartType4/Masses'][()]\n",
    "   \n",
    "    StrPos.append(pos_str)\n",
    "    StrMass.append(mass_str)\n",
    "\n",
    "    #gas\n",
    "    pos_gas    = snap['PartType0/Coordinates'][()]\n",
    "    mass_gas   = snap['PartType0/Masses'][()]\n",
    "    \n",
    "    GasPos.append(pos_gas)\n",
    "    GasMass.append(mass_gas)\n",
    "\n",
    "    #dark matter\n",
    "    pos_drk    = snap['PartType1/Coordinates'][()]\n",
    "    mass_drk   = snap['PartType1/Masses'][()]\n",
    "    \n",
    "    DrkPos.append(pos_drk)\n",
    "    DrkMass.append(mass_drk)\n",
    "\n",
    "    \n",
    "a = snap.get('Header').attrs['Time']\n",
    "h = snap.get('Header').attrs['HubbleParam']\n",
    "\n",
    "Omega0   = snap.get('Header').attrs['Omega0']\n",
    "Omegab   = snap.get('Header').attrs['OmegaBaryon']\n",
    "OmegaL   = snap.get('Header').attrs['OmegaLambda']\n",
    "Redshift = snap.get('Header').attrs['Redshift']\n",
    "\n",
    "Unit_Length = snap.get('Header').attrs['UnitLength_in_cm']\n",
    "Unit_Mass   = snap.get('Header').attrs['UnitMass_in_g']\n",
    "Unit_Veloc  = snap.get('Header').attrs['UnitVelocity_in_cm_per_s']\n",
    "\n",
    "StrPos  = np.concatenate(StrPos)\n",
    "StrMass = np.concatenate(StrMass)\n",
    "\n",
    "GasPos  = np.concatenate(GasPos)\n",
    "GasMass = np.concatenate(GasMass)\n",
    "\n",
    "DrkPos  = np.concatenate(DrkPos)\n",
    "DrkMass = np.concatenate(DrkMass)\n",
    "\n",
    "gc.collect()"
   ]
  },
  {
   "cell_type": "markdown",
   "metadata": {},
   "source": [
    "#### Veo cuales son los subhalos que no tenian part low-res "
   ]
  },
  {
   "cell_type": "code",
   "execution_count": 6,
   "metadata": {},
   "outputs": [
    {
     "name": "stdout",
     "output_type": "stream",
     "text": [
      "[ 0  1  3  4  5  6  7  9 20 21 22 27 28 31 33 35 36 37 38 39 41 42 45 46\n",
      " 49 50 51 53 54 64 65 66 69 73 74 79 84 85 87 88 90 91 92 95 96]\n"
     ]
    }
   ],
   "source": [
    "import numpy as np\n",
    "subh = np.loadtxt('../_data/subhalos.dat')\n",
    "\n",
    "halo_mask, = np.where((subh[:,15]==0) & (subh[:,16]==0))\n",
    "\n",
    "subh_name = subh[:,0][halo_mask]\n",
    "subh_ind  = np.int_(subh_name)\n",
    "# nsubh = len(subh_name)\n",
    "\n",
    "print(subh_ind)"
   ]
  },
  {
   "cell_type": "markdown",
   "metadata": {},
   "source": [
    "##### Aca me quedo con los primeros 8 halos "
   ]
  },
  {
   "cell_type": "markdown",
   "metadata": {},
   "source": [
    "### Calculo los Rvir y Mvir \n",
    "\n",
    "Guardo el archivo **Mvir_Rvir.dat**"
   ]
  },
  {
   "cell_type": "code",
   "execution_count": 5,
   "metadata": {},
   "outputs": [
    {
     "name": "stdout",
     "output_type": "stream",
     "text": [
      "subhalo 127000000000002 Mvir =  2.6059E+12 Rvir =  290.01149917\n",
      "subhalo 127000000000003 Mvir =  2.2134E+12 Rvir =  274.65242828\n",
      "subhalo 127000000000004 Mvir =  7.9339E+11 Rvir =  195.10077761\n",
      "subhalo 127000000000006 Mvir =  3.3978E+11 Rvir =  147.05952832\n",
      "subhalo 127000000000007 Mvir =  2.6794E+11 Rvir =  135.86481884\n",
      "subhalo 127000000000009 Mvir =  2.4268E+11 Rvir =  131.45309434\n",
      "subhalo 127000000000012 Mvir =  1.9425E+11 Rvir =  122.05334483\n",
      "subhalo 127000000000011 Mvir =  2.0015E+11 Rvir =  123.27558165\n",
      "subhalo 127000000000014 Mvir =  1.2214E+11 Rvir =  104.56542229\n",
      "subhalo 127000000000020 Mvir =  8.2075E+10 Rvir =  91.58588925\n",
      "subhalo 127000000000021 Mvir =  7.9272E+10 Rvir =  90.53227168\n",
      "subhalo 127000000000023 Mvir =  7.9543E+10 Rvir =  90.63468031\n",
      "subhalo 127000000000028 Mvir =  5.3534E+10 Rvir =  79.42770409\n",
      "subhalo 127000000000031 Mvir =  4.8143E+10 Rvir =  76.66483985\n",
      "subhalo 127000000000030 Mvir =  2.0500E+12 Rvir =  267.72256251\n",
      "CPU times: user 5min 18s, sys: 1min 55s, total: 7min 13s\n",
      "Wall time: 7min 13s\n"
     ]
    },
    {
     "data": {
      "text/plain": [
       "0"
      ]
     },
     "execution_count": 5,
     "metadata": {},
     "output_type": "execute_result"
    }
   ],
   "source": [
    "%%time\n",
    "\n",
    "import numpy as np\n",
    "import gc\n",
    "\n",
    "G = 4.299e-6 #kpc*(km/s)**2*Msol^-1\n",
    "\n",
    "H0 = 100*h #km/s/Mpc\n",
    "\n",
    "# omega_matter = results[0]['Omega0']\n",
    "# omega_lambda = results[0]['OmegaL']\n",
    "# omega0 = omega_matter + omega_lambda\n",
    "\n",
    "# z = results[0]['Redshift']\n",
    "\n",
    "path2 = '/home/omarioni/gradients/_data/'\n",
    "archivo =  open(path2 + 'Mvir_Rvir_AHF.dat','a')\n",
    "\n",
    "for i in range(15):\n",
    "    \n",
    "\n",
    "    xstr = (StrPos[:,0]*1000-Xc_AHF[i])*a/h\n",
    "    ystr = (StrPos[:,1]*1000-Yc_AHF[i])*a/h\n",
    "    zstr = (StrPos[:,2]*1000-Zc_AHF[i])*a/h\n",
    "    rstr = np.sqrt(xstr**2 + ystr**2 + zstr**2)\n",
    "    mstr = StrMass*1e10/h\n",
    "    \n",
    "    xgas = (GasPos[:,0]*1000-Xc_AHF[i])*a/h\n",
    "    ygas = (GasPos[:,1]*1000-Yc_AHF[i])*a/h\n",
    "    zgas = (GasPos[:,2]*1000-Zc_AHF[i])*a/h\n",
    "    rgas = np.sqrt(xgas**2 + ygas**2 + zgas**2)\n",
    "    mgas = GasMass*1e10/h\n",
    "    \n",
    "    xdrk = (DrkPos[:,0]*1000-Xc_AHF[i])*a/h\n",
    "    ydrk = (DrkPos[:,1]*1000-Yc_AHF[i])*a/h\n",
    "    zdrk = (DrkPos[:,2]*1000-Zc_AHF[i])*a/h\n",
    "    rdrk = np.sqrt(xdrk**2 + ydrk**2 + zdrk**2)\n",
    "    mdrk = DrkMass*1e10/h\n",
    "    \n",
    "    st, = np.where(rstr < 1000)\n",
    "    dm, = np.where(rdrk < 1000)\n",
    "    gs, = np.where(rstr < 1000)\n",
    "    \n",
    "    r = np.concatenate([rstr[st], rgas[gs], rdrk[dm]])\n",
    "    m = np.concatenate([mstr[st], mgas[gs], mdrk[dm]])\n",
    "\n",
    "    psort = np.argsort(r)\n",
    "    \n",
    "    \n",
    "    vol  = 4./3 * np.pi * r[psort]**3\n",
    "    mass = np.cumsum(m[psort])\n",
    "    rho  = mass / vol\n",
    "\n",
    "    H0_kpc = H0/1000 #paso a kpc\n",
    "    \n",
    "    rho_crit = 3.*H0_kpc**2 / (8.*np.pi*G)\n",
    "\n",
    "    mask, = np.where(rho > 200*rho_crit)\n",
    "    \n",
    "    Mvir = mass[mask][-1]\n",
    "    Rvir = r[psort][mask][-1] \n",
    "    \n",
    "    print ('subhalo', str('%d'%Id_AHF[i]), 'Mvir = ', str('%.4E'%Mvir), 'Rvir = ', str('%4.8f'%Rvir))\n",
    "    \n",
    "    archivo.write(str('%03d'%Id_AHF[i] ) +'\\t'+\n",
    "                 str('%1.6E'% Mvir) +'\\t'+\n",
    "                 str('%12.6f'% Rvir) +'\\n')\n",
    "\n",
    "archivo.close()\n",
    "    \n",
    "gc.collect()\n"
   ]
  },
  {
   "cell_type": "code",
   "execution_count": null,
   "metadata": {},
   "outputs": [],
   "source": []
  }
 ],
 "metadata": {
  "kernelspec": {
   "display_name": "Python 3 (ipykernel)",
   "language": "python",
   "name": "python3"
  },
  "language_info": {
   "codemirror_mode": {
    "name": "ipython",
    "version": 3
   },
   "file_extension": ".py",
   "mimetype": "text/x-python",
   "name": "python",
   "nbconvert_exporter": "python",
   "pygments_lexer": "ipython3",
   "version": "3.7.4"
  }
 },
 "nbformat": 4,
 "nbformat_minor": 4
}
