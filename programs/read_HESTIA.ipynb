{
 "cells": [
  {
   "cell_type": "code",
   "execution_count": 4,
   "metadata": {},
   "outputs": [],
   "source": [
    "import h5py"
   ]
  },
  {
   "cell_type": "code",
   "execution_count": 42,
   "metadata": {},
   "outputs": [],
   "source": [
    "snap = h5py.File('/store/clues/HESTIA/RE_SIMS/8192/GAL_FOR/17_11/output_2x2.5Mpc/snapdir_127/snapshot_127.0.hdf5','r')"
   ]
  },
  {
   "cell_type": "code",
   "execution_count": 16,
   "metadata": {},
   "outputs": [
    {
     "name": "stdout",
     "output_type": "stream",
     "text": [
      "Config\n",
      "Header\n",
      "Parameters\n",
      "PartType0\n",
      "PartType0/AllowRefinement\n",
      "PartType0/Coordinates\n",
      "PartType0/Density\n",
      "PartType0/ElectronAbundance\n",
      "PartType0/EnergyDissipation\n",
      "PartType0/GFM_AGNRadiation\n",
      "PartType0/GFM_CoolingRate\n",
      "PartType0/GFM_Metallicity\n",
      "PartType0/GFM_Metals\n",
      "PartType0/GFM_RProcess\n",
      "PartType0/GFM_WindDMVelDisp\n",
      "PartType0/GFM_WindHostHaloMass\n",
      "PartType0/HighResGasMass\n",
      "PartType0/InternalEnergy\n",
      "PartType0/Machnumber\n",
      "PartType0/MagneticField\n",
      "PartType0/MagneticFieldDivergence\n",
      "PartType0/Masses\n",
      "PartType0/NeutralHydrogenAbundance\n",
      "PartType0/ParticleIDs\n",
      "PartType0/Potential\n",
      "PartType0/StarFormationRate\n",
      "PartType0/Velocities\n",
      "PartType1\n",
      "PartType1/Coordinates\n",
      "PartType1/Masses\n",
      "PartType1/ParticleIDs\n",
      "PartType1/Potential\n",
      "PartType1/Velocities\n",
      "PartType2\n",
      "PartType2/Coordinates\n",
      "PartType2/Masses\n",
      "PartType2/ParticleIDs\n",
      "PartType2/Potential\n",
      "PartType2/Velocities\n",
      "PartType3\n",
      "PartType3/Coordinates\n",
      "PartType3/Masses\n",
      "PartType3/ParticleIDs\n",
      "PartType3/Potential\n",
      "PartType3/Velocities\n",
      "PartType4\n",
      "PartType4/BirthDensity\n",
      "PartType4/BirthPos\n",
      "PartType4/BirthVel\n",
      "PartType4/Coordinates\n",
      "PartType4/GFM_InitialMass\n",
      "PartType4/GFM_Metallicity\n",
      "PartType4/GFM_Metals\n",
      "PartType4/GFM_NSNS_Count\n",
      "PartType4/GFM_RProcess\n",
      "PartType4/GFM_StellarFormationTime\n",
      "PartType4/GFM_StellarPhotometrics\n",
      "PartType4/Masses\n",
      "PartType4/ParticleIDs\n",
      "PartType4/Potential\n",
      "PartType4/Velocities\n",
      "PartType5\n",
      "PartType5/BH_CumEgyInjection_QM\n",
      "PartType5/BH_CumEgyInjection_RM\n",
      "PartType5/BH_CumMassGrowth_QM\n",
      "PartType5/BH_CumMassGrowth_RM\n",
      "PartType5/BH_Density\n",
      "PartType5/BH_HaloVvir\n",
      "PartType5/BH_HostHaloMass\n",
      "PartType5/BH_Hsml\n",
      "PartType5/BH_Mass\n",
      "PartType5/BH_Mdot\n",
      "PartType5/BH_MdotBondi\n",
      "PartType5/BH_MdotEddington\n",
      "PartType5/BH_Mdot_Quasar\n",
      "PartType5/BH_Mdot_Radio\n",
      "PartType5/BH_MinPot\n",
      "PartType5/BH_MinPotExt\n",
      "PartType5/BH_MinPotPos\n",
      "PartType5/BH_MinPotPosExt\n",
      "PartType5/BH_MinPotVel\n",
      "PartType5/BH_Pressure\n",
      "PartType5/BH_Progs\n",
      "PartType5/BH_RadioLuminosity\n",
      "PartType5/BH_RhoTot\n",
      "PartType5/BH_TimeStep\n",
      "PartType5/BH_U\n",
      "PartType5/BH_XrayLuminosity\n",
      "PartType5/Coordinates\n",
      "PartType5/Masses\n",
      "PartType5/ParticleIDs\n",
      "PartType5/Potential\n",
      "PartType5/Velocities\n",
      "PartType6\n",
      "PartType6/ParentID\n",
      "PartType6/TracerID\n"
     ]
    }
   ],
   "source": [
    "def printname(name):\n",
    "    print (name)\n",
    "snap.visit(printname)"
   ]
  },
  {
   "cell_type": "code",
   "execution_count": 34,
   "metadata": {},
   "outputs": [
    {
     "data": {
      "text/plain": [
       "[('Config', <HDF5 group \"/Config\" (0 members)>),\n",
       " ('Header', <HDF5 group \"/Header\" (0 members)>),\n",
       " ('Parameters', <HDF5 group \"/Parameters\" (0 members)>),\n",
       " ('PartType0', <HDF5 group \"/PartType0\" (23 members)>),\n",
       " ('PartType1', <HDF5 group \"/PartType1\" (5 members)>),\n",
       " ('PartType2', <HDF5 group \"/PartType2\" (5 members)>),\n",
       " ('PartType3', <HDF5 group \"/PartType3\" (5 members)>),\n",
       " ('PartType4', <HDF5 group \"/PartType4\" (15 members)>),\n",
       " ('PartType5', <HDF5 group \"/PartType5\" (31 members)>),\n",
       " ('PartType6', <HDF5 group \"/PartType6\" (2 members)>)]"
      ]
     },
     "execution_count": 34,
     "metadata": {},
     "output_type": "execute_result"
    }
   ],
   "source": [
    "list(snap.items())"
   ]
  },
  {
   "cell_type": "code",
   "execution_count": 35,
   "metadata": {},
   "outputs": [
    {
     "data": {
      "text/plain": [
       "<HDF5 group \"/Header\" (0 members)>"
      ]
     },
     "execution_count": 35,
     "metadata": {},
     "output_type": "execute_result"
    }
   ],
   "source": [
    "snap['Header']"
   ]
  },
  {
   "cell_type": "code",
   "execution_count": 37,
   "metadata": {},
   "outputs": [
    {
     "data": {
      "text/plain": [
       "<HDF5 group \"/Header\" (0 members)>"
      ]
     },
     "execution_count": 37,
     "metadata": {},
     "output_type": "execute_result"
    }
   ],
   "source": [
    "snap.get('Header')"
   ]
  },
  {
   "cell_type": "code",
   "execution_count": 43,
   "metadata": {
    "scrolled": true
   },
   "outputs": [
    {
     "data": {
      "text/plain": [
       "\u001b[0;31mInit signature:\u001b[0m\n",
       "\u001b[0mh5py\u001b[0m\u001b[0;34m.\u001b[0m\u001b[0mFile\u001b[0m\u001b[0;34m(\u001b[0m\u001b[0;34m\u001b[0m\n",
       "\u001b[0;34m\u001b[0m    \u001b[0mname\u001b[0m\u001b[0;34m,\u001b[0m\u001b[0;34m\u001b[0m\n",
       "\u001b[0;34m\u001b[0m    \u001b[0mmode\u001b[0m\u001b[0;34m=\u001b[0m\u001b[0;32mNone\u001b[0m\u001b[0;34m,\u001b[0m\u001b[0;34m\u001b[0m\n",
       "\u001b[0;34m\u001b[0m    \u001b[0mdriver\u001b[0m\u001b[0;34m=\u001b[0m\u001b[0;32mNone\u001b[0m\u001b[0;34m,\u001b[0m\u001b[0;34m\u001b[0m\n",
       "\u001b[0;34m\u001b[0m    \u001b[0mlibver\u001b[0m\u001b[0;34m=\u001b[0m\u001b[0;32mNone\u001b[0m\u001b[0;34m,\u001b[0m\u001b[0;34m\u001b[0m\n",
       "\u001b[0;34m\u001b[0m    \u001b[0muserblock_size\u001b[0m\u001b[0;34m=\u001b[0m\u001b[0;32mNone\u001b[0m\u001b[0;34m,\u001b[0m\u001b[0;34m\u001b[0m\n",
       "\u001b[0;34m\u001b[0m    \u001b[0mswmr\u001b[0m\u001b[0;34m=\u001b[0m\u001b[0;32mFalse\u001b[0m\u001b[0;34m,\u001b[0m\u001b[0;34m\u001b[0m\n",
       "\u001b[0;34m\u001b[0m    \u001b[0mrdcc_nslots\u001b[0m\u001b[0;34m=\u001b[0m\u001b[0;32mNone\u001b[0m\u001b[0;34m,\u001b[0m\u001b[0;34m\u001b[0m\n",
       "\u001b[0;34m\u001b[0m    \u001b[0mrdcc_nbytes\u001b[0m\u001b[0;34m=\u001b[0m\u001b[0;32mNone\u001b[0m\u001b[0;34m,\u001b[0m\u001b[0;34m\u001b[0m\n",
       "\u001b[0;34m\u001b[0m    \u001b[0mrdcc_w0\u001b[0m\u001b[0;34m=\u001b[0m\u001b[0;32mNone\u001b[0m\u001b[0;34m,\u001b[0m\u001b[0;34m\u001b[0m\n",
       "\u001b[0;34m\u001b[0m    \u001b[0mtrack_order\u001b[0m\u001b[0;34m=\u001b[0m\u001b[0;32mNone\u001b[0m\u001b[0;34m,\u001b[0m\u001b[0;34m\u001b[0m\n",
       "\u001b[0;34m\u001b[0m    \u001b[0;34m**\u001b[0m\u001b[0mkwds\u001b[0m\u001b[0;34m,\u001b[0m\u001b[0;34m\u001b[0m\n",
       "\u001b[0;34m\u001b[0m\u001b[0;34m)\u001b[0m\u001b[0;34m\u001b[0m\u001b[0;34m\u001b[0m\u001b[0m\n",
       "\u001b[0;31mDocstring:\u001b[0m      Represents an HDF5 file.\n",
       "\u001b[0;31mInit docstring:\u001b[0m\n",
       "Create a new file object.\n",
       "\n",
       "See the h5py user guide for a detailed explanation of the options.\n",
       "\n",
       "name\n",
       "    Name of the file on disk, or file-like object.  Note: for files\n",
       "    created with the 'core' driver, HDF5 still requires this be\n",
       "    non-empty.\n",
       "mode\n",
       "    r        Readonly, file must exist\n",
       "    r+       Read/write, file must exist\n",
       "    w        Create file, truncate if exists\n",
       "    w- or x  Create file, fail if exists\n",
       "    a        Read/write if exists, create otherwise (default)\n",
       "driver\n",
       "    Name of the driver to use.  Legal values are None (default,\n",
       "    recommended), 'core', 'sec2', 'stdio', 'mpio'.\n",
       "libver\n",
       "    Library version bounds.  Currently only the strings 'earliest'\n",
       "    and 'latest' are defined.\n",
       "userblock\n",
       "    Desired size of user block.  Only allowed when creating a new\n",
       "    file (mode w, w- or x).\n",
       "swmr\n",
       "    Open the file in SWMR read mode. Only used when mode = 'r'.\n",
       "rdcc_nbytes\n",
       "    Total size of the raw data chunk cache in bytes. The default size\n",
       "    is 1024**2 (1 MB) per dataset.\n",
       "rdcc_w0\n",
       "    The chunk preemption policy for all datasets.  This must be\n",
       "    between 0 and 1 inclusive and indicates the weighting according to\n",
       "    which chunks which have been fully read or written are penalized\n",
       "    when determining which chunks to flush from cache.  A value of 0\n",
       "    means fully read or written chunks are treated no differently than\n",
       "    other chunks (the preemption is strictly LRU) while a value of 1\n",
       "    means fully read or written chunks are always preempted before\n",
       "    other chunks.  If your application only reads or writes data once,\n",
       "    this can be safely set to 1.  Otherwise, this should be set lower\n",
       "    depending on how often you re-read or re-write the same data.  The\n",
       "    default value is 0.75.\n",
       "rdcc_nslots\n",
       "    The number of chunk slots in the raw data chunk cache for this\n",
       "    file. Increasing this value reduces the number of cache collisions,\n",
       "    but slightly increases the memory used. Due to the hashing\n",
       "    strategy, this value should ideally be a prime number. As a rule of\n",
       "    thumb, this value should be at least 10 times the number of chunks\n",
       "    that can fit in rdcc_nbytes bytes. For maximum performance, this\n",
       "    value should be set approximately 100 times that number of\n",
       "    chunks. The default value is 521.\n",
       "track_order\n",
       "    Track dataset/group/attribute creation order under root group\n",
       "    if True. If None use global default h5.get_config().track_order.\n",
       "Additional keywords\n",
       "    Passed on to the selected file driver.\n",
       "\u001b[0;31mFile:\u001b[0m           ~/miniconda3/lib/python3.7/site-packages/h5py/_hl/files.py\n",
       "\u001b[0;31mType:\u001b[0m           ABCMeta\n",
       "\u001b[0;31mSubclasses:\u001b[0m     \n"
      ]
     },
     "metadata": {},
     "output_type": "display_data"
    }
   ],
   "source": [
    "?h5py.File"
   ]
  },
  {
   "cell_type": "code",
   "execution_count": 19,
   "metadata": {},
   "outputs": [
    {
     "data": {
      "text/plain": [
       "[<matplotlib.lines.Line2D at 0x7fc39a4cb4d0>]"
      ]
     },
     "execution_count": 19,
     "metadata": {},
     "output_type": "execute_result"
    },
    {
     "data": {
      "image/png": "[encoded data removed]",
      "text/plain": [
       "<Figure size 432x288 with 1 Axes>"
      ]
     },
     "metadata": {
      "needs_background": "light"
     },
     "output_type": "display_data"
    }
   ],
   "source": [
    "import matplotlib.pyplot as plt \n",
    "plt.plot(pos[:,0],pos[:,1],'.k',markersize=0.01)"
   ]
  },
  {
   "cell_type": "code",
   "execution_count": null,
   "metadata": {},
   "outputs": [],
   "source": []
  },
  {
   "cell_type": "code",
   "execution_count": 5,
   "metadata": {},
   "outputs": [
    {
     "data": {
      "text/plain": [
       "<KeysViewHDF5 ['Config', 'Header', 'Parameters', 'PartType0', 'PartType1', 'PartType2', 'PartType3', 'PartType4', 'PartType5', 'PartType6']>"
      ]
     },
     "execution_count": 5,
     "metadata": {},
     "output_type": "execute_result"
    }
   ],
   "source": [
    "snap.keys()\n"
   ]
  },
  {
   "cell_type": "code",
   "execution_count": 6,
   "metadata": {},
   "outputs": [
    {
     "data": {
      "text/plain": [
       "<HDF5 dataset \"Coordinates\": shape (3811264, 3), type \"<f8\">"
      ]
     },
     "execution_count": 6,
     "metadata": {},
     "output_type": "execute_result"
    }
   ],
   "source": [
    "snap['PartType4/Coordinates']"
   ]
  },
  {
   "cell_type": "code",
   "execution_count": 10,
   "metadata": {},
   "outputs": [
    {
     "name": "stderr",
     "output_type": "stream",
     "text": [
      "/z/omarioni/miniconda3/lib/python3.7/site-packages/pynbody/snapshot/gadgethdf.py:508: RuntimeWarning: No unit information found!\n",
      "  warnings.warn(\"No unit information found!\", RuntimeWarning)\n",
      "/z/omarioni/miniconda3/lib/python3.7/site-packages/pynbody/snapshot/gadgethdf.py:573: RuntimeWarning: No unit information found: using gadget-units.\n",
      "  \"No unit information found: using gadget-units.\", RuntimeWarning)\n"
     ]
    }
   ],
   "source": [
    "import pynbody\n",
    "\n",
    "s = pynbody.load('/store/clues/HESTIA/RE_SIMS/8192/GAL_FOR/17_11/output_2x2.5Mpc/snapdir_127/snapshot_127.0.hdf5')"
   ]
  },
  {
   "cell_type": "code",
   "execution_count": 11,
   "metadata": {
    "scrolled": true
   },
   "outputs": [
    {
     "data": {
      "text/plain": [
       "['u',\n",
       " 'p',\n",
       " 'HII',\n",
       " 'HeIII',\n",
       " 'ne',\n",
       " 'rho_ne',\n",
       " 'dm',\n",
       " 'cosmodm',\n",
       " 'redshift',\n",
       " 'doppler_redshift',\n",
       " 'em',\n",
       " 'halpha',\n",
       " 'c_n_sq',\n",
       " 'hetot',\n",
       " 'hydrogen',\n",
       " 'HI',\n",
       " 'HIeos',\n",
       " 'HID12',\n",
       " 'HeI',\n",
       " 'HeII',\n",
       " 'OI',\n",
       " 'OII',\n",
       " 'OVI',\n",
       " 'CIV',\n",
       " 'NV',\n",
       " 'SIV',\n",
       " 'MGII',\n",
       " 'feh',\n",
       " 'sixh',\n",
       " 'sxh',\n",
       " 'mgxh',\n",
       " 'oxh',\n",
       " 'nexh',\n",
       " 'cxh',\n",
       " 'caxh',\n",
       " 'nxh',\n",
       " 'ofe',\n",
       " 'mgfe',\n",
       " 'nefe',\n",
       " 'sife',\n",
       " 'smooth',\n",
       " 'rho',\n",
       " 'r',\n",
       " 'rxy',\n",
       " 'vr',\n",
       " 'v2',\n",
       " 'vt',\n",
       " 'ke',\n",
       " 'te',\n",
       " 'j',\n",
       " 'j2',\n",
       " 'jz',\n",
       " 'vrxy',\n",
       " 'vcxy',\n",
       " 'vphi',\n",
       " 'vtheta',\n",
       " 'v_mean',\n",
       " 'v_disp',\n",
       " 'age',\n",
       " 'u_mag',\n",
       " 'u_lum_den',\n",
       " 'b_mag',\n",
       " 'b_lum_den',\n",
       " 'v_mag',\n",
       " 'v_lum_den',\n",
       " 'r_mag',\n",
       " 'r_lum_den',\n",
       " 'i_mag',\n",
       " 'i_lum_den',\n",
       " 'j_mag',\n",
       " 'j_lum_den',\n",
       " 'h_mag',\n",
       " 'h_lum_den',\n",
       " 'k_mag',\n",
       " 'k_lum_den',\n",
       " 'U_mag',\n",
       " 'U_lum_den',\n",
       " 'B_mag',\n",
       " 'B_lum_den',\n",
       " 'V_mag',\n",
       " 'V_lum_den',\n",
       " 'R_mag',\n",
       " 'R_lum_den',\n",
       " 'I_mag',\n",
       " 'I_lum_den',\n",
       " 'J_mag',\n",
       " 'J_lum_den',\n",
       " 'H_mag',\n",
       " 'H_lum_den',\n",
       " 'K_mag',\n",
       " 'K_lum_den',\n",
       " 'theta',\n",
       " 'alt',\n",
       " 'az',\n",
       " 'cs',\n",
       " 'mu',\n",
       " 'p',\n",
       " 'u',\n",
       " 'temp',\n",
       " 'zeldovich_offset',\n",
       " 'aform',\n",
       " 'tform',\n",
       " 'mass',\n",
       " 'phi',\n",
       " 'pos',\n",
       " 'vel',\n",
       " 'iord']"
      ]
     },
     "execution_count": 11,
     "metadata": {},
     "output_type": "execute_result"
    }
   ],
   "source": [
    "s.all_keys()"
   ]
  },
  {
   "cell_type": "code",
   "execution_count": 16,
   "metadata": {},
   "outputs": [
    {
     "ename": "FileNotFoundError",
     "evalue": "[Errno 2] No such file or directory: '/store/clues/HESTIA/RE_SIMS/8192/GAL_FOR/17_11/output_2x2.5Mpc/groups_127/subhalo_tab_127.0'",
     "output_type": "error",
     "traceback": [
      "\u001b[0;31m---------------------------------------------------------------------------\u001b[0m",
      "\u001b[0;31mFileNotFoundError\u001b[0m                         Traceback (most recent call last)",
      "\u001b[0;32m<ipython-input-16-dc8dc0cac02d>\u001b[0m in \u001b[0;36m<module>\u001b[0;34m\u001b[0m\n\u001b[0;32m----> 1\u001b[0;31m \u001b[0mh\u001b[0m\u001b[0;34m=\u001b[0m\u001b[0ms\u001b[0m\u001b[0;34m.\u001b[0m\u001b[0mhalos\u001b[0m\u001b[0;34m(\u001b[0m\u001b[0;34m)\u001b[0m\u001b[0;34m\u001b[0m\u001b[0;34m\u001b[0m\u001b[0m\n\u001b[0m",
      "\u001b[0;32m~/miniconda3/lib/python3.7/site-packages/pynbody/snapshot/__init__.py\u001b[0m in \u001b[0;36mhalos\u001b[0;34m(self, *args, **kwargs)\u001b[0m\n\u001b[1;32m    844\u001b[0m             \u001b[0;32mtry\u001b[0m\u001b[0;34m:\u001b[0m\u001b[0;34m\u001b[0m\u001b[0;34m\u001b[0m\u001b[0m\n\u001b[1;32m    845\u001b[0m                 \u001b[0;32mif\u001b[0m \u001b[0mc\u001b[0m\u001b[0;34m.\u001b[0m\u001b[0m_can_load\u001b[0m\u001b[0;34m(\u001b[0m\u001b[0mself\u001b[0m\u001b[0;34m,\u001b[0m \u001b[0;34m*\u001b[0m\u001b[0margs\u001b[0m\u001b[0;34m,\u001b[0m \u001b[0;34m**\u001b[0m\u001b[0mkwargs\u001b[0m\u001b[0;34m)\u001b[0m\u001b[0;34m:\u001b[0m\u001b[0;34m\u001b[0m\u001b[0;34m\u001b[0m\u001b[0m\n\u001b[0;32m--> 846\u001b[0;31m                     \u001b[0;32mreturn\u001b[0m \u001b[0mc\u001b[0m\u001b[0;34m(\u001b[0m\u001b[0mself\u001b[0m\u001b[0;34m,\u001b[0m \u001b[0;34m*\u001b[0m\u001b[0margs\u001b[0m\u001b[0;34m,\u001b[0m \u001b[0;34m**\u001b[0m\u001b[0mkwargs\u001b[0m\u001b[0;34m)\u001b[0m\u001b[0;34m\u001b[0m\u001b[0;34m\u001b[0m\u001b[0m\n\u001b[0m\u001b[1;32m    847\u001b[0m             \u001b[0;32mexcept\u001b[0m \u001b[0mTypeError\u001b[0m\u001b[0;34m:\u001b[0m\u001b[0;34m\u001b[0m\u001b[0;34m\u001b[0m\u001b[0m\n\u001b[1;32m    848\u001b[0m                 \u001b[0;32mpass\u001b[0m\u001b[0;34m\u001b[0m\u001b[0;34m\u001b[0m\u001b[0m\n",
      "\u001b[0;32m~/miniconda3/lib/python3.7/site-packages/pynbody/halo/subfind.py\u001b[0m in \u001b[0;36m__init__\u001b[0;34m(self, sim, subs, order, make_grp, v, **kwargs)\u001b[0m\n\u001b[1;32m     35\u001b[0m         \u001b[0mself\u001b[0m\u001b[0;34m.\u001b[0m\u001b[0mdtype_flt\u001b[0m\u001b[0;34m=\u001b[0m\u001b[0;34m'float32'\u001b[0m \u001b[0;31m#SUBFIND data is apparently always single precision???\u001b[0m\u001b[0;34m\u001b[0m\u001b[0;34m\u001b[0m\u001b[0m\n\u001b[1;32m     36\u001b[0m         \u001b[0mself\u001b[0m\u001b[0;34m.\u001b[0m\u001b[0mhalodir\u001b[0m \u001b[0;34m=\u001b[0m \u001b[0mself\u001b[0m\u001b[0;34m.\u001b[0m\u001b[0m_name_of_catalogue\u001b[0m\u001b[0;34m(\u001b[0m\u001b[0msim\u001b[0m\u001b[0;34m)\u001b[0m\u001b[0;34m\u001b[0m\u001b[0;34m\u001b[0m\u001b[0m\n\u001b[0;32m---> 37\u001b[0;31m         \u001b[0mself\u001b[0m\u001b[0;34m.\u001b[0m\u001b[0mheader\u001b[0m \u001b[0;34m=\u001b[0m \u001b[0mself\u001b[0m\u001b[0;34m.\u001b[0m\u001b[0m_readheader\u001b[0m\u001b[0;34m(\u001b[0m\u001b[0;34m)\u001b[0m\u001b[0;34m\u001b[0m\u001b[0;34m\u001b[0m\u001b[0m\n\u001b[0m\u001b[1;32m     38\u001b[0m         \u001b[0;32mif\u001b[0m \u001b[0msubs\u001b[0m \u001b[0;32mis\u001b[0m \u001b[0;32mTrue\u001b[0m\u001b[0;34m:\u001b[0m\u001b[0;34m\u001b[0m\u001b[0;34m\u001b[0m\u001b[0m\n\u001b[1;32m     39\u001b[0m             \u001b[0;32mif\u001b[0m \u001b[0mself\u001b[0m\u001b[0;34m.\u001b[0m\u001b[0mheader\u001b[0m\u001b[0;34m[\u001b[0m\u001b[0;36m6\u001b[0m\u001b[0;34m]\u001b[0m\u001b[0;34m==\u001b[0m\u001b[0;36m0\u001b[0m\u001b[0;34m:\u001b[0m\u001b[0;34m\u001b[0m\u001b[0;34m\u001b[0m\u001b[0m\n",
      "\u001b[0;32m~/miniconda3/lib/python3.7/site-packages/pynbody/halo/subfind.py\u001b[0m in \u001b[0;36m_readheader\u001b[0;34m(self)\u001b[0m\n\u001b[1;32m    108\u001b[0m         \u001b[0mfilename\u001b[0m \u001b[0;34m=\u001b[0m \u001b[0mself\u001b[0m\u001b[0;34m.\u001b[0m\u001b[0mhalodir\u001b[0m \u001b[0;34m+\u001b[0m \u001b[0;34m\"/subhalo_tab_\"\u001b[0m \u001b[0;34m+\u001b[0m\u001b[0;31m \u001b[0m\u001b[0;31m\\\u001b[0m\u001b[0;34m\u001b[0m\u001b[0;34m\u001b[0m\u001b[0m\n\u001b[1;32m    109\u001b[0m             \u001b[0mself\u001b[0m\u001b[0;34m.\u001b[0m\u001b[0mhalodir\u001b[0m\u001b[0;34m.\u001b[0m\u001b[0msplit\u001b[0m\u001b[0;34m(\u001b[0m\u001b[0;34m\"_\"\u001b[0m\u001b[0;34m)\u001b[0m\u001b[0;34m[\u001b[0m\u001b[0;34m-\u001b[0m\u001b[0;36m1\u001b[0m\u001b[0;34m]\u001b[0m \u001b[0;34m+\u001b[0m \u001b[0;34m\".0\"\u001b[0m\u001b[0;34m\u001b[0m\u001b[0;34m\u001b[0m\u001b[0m\n\u001b[0;32m--> 110\u001b[0;31m         \u001b[0mfd\u001b[0m \u001b[0;34m=\u001b[0m \u001b[0mopen\u001b[0m\u001b[0;34m(\u001b[0m\u001b[0mfilename\u001b[0m\u001b[0;34m,\u001b[0m \u001b[0;34m\"rb\"\u001b[0m\u001b[0;34m)\u001b[0m\u001b[0;34m\u001b[0m\u001b[0;34m\u001b[0m\u001b[0m\n\u001b[0m\u001b[1;32m    111\u001b[0m         \u001b[0;31m# read header: this is strange but it works: there is an extra value in\u001b[0m\u001b[0;34m\u001b[0m\u001b[0;34m\u001b[0m\u001b[0;34m\u001b[0m\u001b[0m\n\u001b[1;32m    112\u001b[0m         \u001b[0;31m# header which we delete in the next step\u001b[0m\u001b[0;34m\u001b[0m\u001b[0;34m\u001b[0m\u001b[0;34m\u001b[0m\u001b[0m\n",
      "\u001b[0;31mFileNotFoundError\u001b[0m: [Errno 2] No such file or directory: '/store/clues/HESTIA/RE_SIMS/8192/GAL_FOR/17_11/output_2x2.5Mpc/groups_127/subhalo_tab_127.0'"
     ]
    }
   ],
   "source": [
    "h=s.halos()"
   ]
  },
  {
   "cell_type": "code",
   "execution_count": 7,
   "metadata": {},
   "outputs": [],
   "source": [
    "import pynbody\n",
    "s=pynbody.load('/srv/cosmdatc/clues/B64_WM3_186592/LG/GAS_SFR/4096_Gasoline/0016/WMAP3.CLUES.HR.000016')\n",
    "\n"
   ]
  },
  {
   "cell_type": "code",
   "execution_count": 4,
   "metadata": {},
   "outputs": [
    {
     "name": "stdout",
     "output_type": "stream",
     "text": [
      "Object `subfind.subfind` not found.\n"
     ]
    }
   ],
   "source": []
  },
  {
   "cell_type": "code",
   "execution_count": 32,
   "metadata": {},
   "outputs": [],
   "source": [
    "import pathlib\n",
    "import gc\n",
    "import pandas as pd\n",
    "import joblib\n"
   ]
  },
  {
   "cell_type": "code",
   "execution_count": 3,
   "metadata": {},
   "outputs": [],
   "source": [
    "dir_path = pathlib.Path('/store/clues/HESTIA/RE_SIMS/8192/GAL_FOR/17_11/output_2x2.5Mpc/snapdir_127')"
   ]
  },
  {
   "cell_type": "code",
   "execution_count": 38,
   "metadata": {},
   "outputs": [
    {
     "name": "stdout",
     "output_type": "stream",
     "text": [
      "CPU times: user 1.13 s, sys: 2.66 s, total: 3.79 s\n",
      "Wall time: 4.87 s\n"
     ]
    },
    {
     "data": {
      "text/plain": [
       "142"
      ]
     },
     "execution_count": 38,
     "metadata": {},
     "output_type": "execute_result"
    }
   ],
   "source": [
    "%%time\n",
    "\n",
    "import h5py\n",
    "def load(path):\n",
    "    with h5py.File(path,'r') as snap:\n",
    "        table = snap['PartType4/Coordinates']\n",
    "        arr = table[()]\n",
    "    return {\"coordinates\": arr, \"velocities\": }\n",
    "\n",
    "with joblib.Parallel(n_jobs=1) as P:\n",
    "    results = P(\n",
    "        joblib.delayed(load)(path)\n",
    "        for path in dir_path.glob('*.hdf5'))\n",
    "    \n",
    "# results = np.vstack(results)\n",
    "\n",
    "gc.collect()"
   ]
  },
  {
   "cell_type": "code",
   "execution_count": 41,
   "metadata": {},
   "outputs": [],
   "source": [
    "coordinates = np.vstack([r[\"coordinates\"] for r in results])\n",
    "velc = np.vstack([r[\"velocities\"] for r in results])"
   ]
  },
  {
   "cell_type": "code",
   "execution_count": 47,
   "metadata": {},
   "outputs": [
    {
     "data": {
      "text/plain": [
       "(29807015, 3)"
      ]
     },
     "execution_count": 47,
     "metadata": {},
     "output_type": "execute_result"
    }
   ],
   "source": [
    "np.shape(coordinates)"
   ]
  },
  {
   "cell_type": "code",
   "execution_count": 44,
   "metadata": {},
   "outputs": [],
   "source": [
    "%matplotlib inline"
   ]
  },
  {
   "cell_type": "code",
   "execution_count": 52,
   "metadata": {},
   "outputs": [],
   "source": [
    "x = coordinates[:,0]-50\n",
    "y = coordinates[:,1]-50\n",
    "z = coordinates[:,2]-50\n",
    "\n",
    "r = np.sqrt(x**2 + y**2 + z**2)\n",
    "\n",
    "mask, = np.where(r<5)"
   ]
  },
  {
   "cell_type": "code",
   "execution_count": 62,
   "metadata": {},
   "outputs": [
    {
     "data": {
      "text/plain": [
       "(-0.6, -0.5)"
      ]
     },
     "execution_count": 62,
     "metadata": {},
     "output_type": "execute_result"
    },
    {
     "data": {
      "image/png": "[encoded data removed]",
      "text/plain": [
       "<Figure size 432x288 with 1 Axes>"
      ]
     },
     "metadata": {
      "needs_background": "light"
     },
     "output_type": "display_data"
    }
   ],
   "source": [
    "plt.plot(x[mask],y[mask],'.k',markersize=0.005)\n",
    "plt.xlim(-3.1,-2.9)\n",
    "plt.ylim(-0.6,-0.5)"
   ]
  },
  {
   "cell_type": "code",
   "execution_count": null,
   "metadata": {},
   "outputs": [],
   "source": []
  }
 ],
 "metadata": {
  "kernelspec": {
   "display_name": "Python 3",
   "language": "python",
   "name": "python3"
  },
  "language_info": {
   "codemirror_mode": {
    "name": "ipython",
    "version": 3
   },
   "file_extension": ".py",
   "mimetype": "text/x-python",
   "name": "python",
   "nbconvert_exporter": "python",
   "pygments_lexer": "ipython3",
   "version": "3.7.4"
  }
 },
 "nbformat": 4,
 "nbformat_minor": 4
}
