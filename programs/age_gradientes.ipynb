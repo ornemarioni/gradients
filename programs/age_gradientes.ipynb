{
 "cells": [
  {
   "cell_type": "code",
   "execution_count": 1,
   "metadata": {},
   "outputs": [
    {
     "name": "stdout",
     "output_type": "stream",
     "text": [
      "Populating the interactive namespace from numpy and matplotlib\n"
     ]
    }
   ],
   "source": [
    "%pylab inline"
   ]
  },
  {
   "cell_type": "code",
   "execution_count": 2,
   "metadata": {},
   "outputs": [
    {
     "name": "stdout",
     "output_type": "stream",
     "text": [
      "[ 0  1  3  4  5  6  7  9 20 21 22 27 28 31 33 35 36 37 38 39 41 42 45 46\n",
      " 49 50 51 53 54 64 65 66 69 73 74 79 84 85 87 88 90 91 92 95 96]\n"
     ]
    }
   ],
   "source": [
    "import numpy as np\n",
    "subh = np.loadtxt('../_data/subhalos.dat')\n",
    "\n",
    "halo_mask, = np.where((subh[:,15]==0) & (subh[:,16]==0))\n",
    "\n",
    "subh_name = subh[:,0][halo_mask]\n",
    "subh_ind  = np.int_(subh_name)\n",
    "# nsubh = len(subh_name)\n",
    "\n",
    "print(subh_ind)"
   ]
  },
  {
   "cell_type": "code",
   "execution_count": null,
   "metadata": {},
   "outputs": [],
   "source": [
    "import matplotlib.pyplot as plt\n",
    "import h5py\n",
    "import rotation_mio as rot\n",
    "import numpy as np\n",
    "import time_conversion as time\n",
    "import bines2 as bines\n",
    "\n",
    "path = '/z/omarioni/gradients/_simulations/snap_127/'\n",
    "\n",
    "for j in subh_ind[:8]:\n",
    "    \n",
    "    snap = h5py.File(path + 'subhalo_'+str('%03d'%j)+'.h5py', 'r')\n",
    "\n",
    "    aexp = snap['/Time'][()]\n",
    "    h    = snap['/h'][()]\n",
    "    Om_L = snap['/Omega_Lambda'][()]\n",
    "    Om_M = snap['/Omega_0'][()]\n",
    "\n",
    "    pstr = snap['/Str/Coordinates'][()]\n",
    "    mstr = snap['/Str/Masses'][()]\n",
    "    vstr = snap['/Str/Velocities'][()]\n",
    "\n",
    "    met  = snap['/Str/Metallicity'][()]\n",
    "    sft  = snap['/Str/FormationTime'][()]\n",
    "\n",
    "    age_ = time.conv2(sft, h, Om_L, Om_M)\n",
    "    aa   = ~np.isnan(age_)\n",
    "    age_ = age_[aa]\n",
    "    age  = np.nanmax(age_) - age_\n",
    "    \n",
    "    FeH_ = met[:,8]/met[:,0]\n",
    "    FeH  = FeH_/0.0127\n",
    "\n",
    "    xstr = pstr[:,0]*aexp/h\n",
    "    ystr = pstr[:,1]*aexp/h\n",
    "    zstr = pstr[:,2]*aexp/h\n",
    "    rstr = np.sqrt(xstr**2+ystr**2+zstr**2)\n",
    "\n",
    "    v_x = vstr[:,0] *np.sqrt(aexp)\n",
    "    v_y = vstr[:,1] *np.sqrt(aexp)\n",
    "    v_z = vstr[:,2] *np.sqrt(aexp)\n",
    "\n",
    "    #----------------------masas----------------------------\n",
    "    mstr = mstr/h\n",
    "\n",
    "    veloc,=np.where(rstr < 3)\n",
    "\n",
    "    #----------componentes de la velocidad del centro de masa------------\n",
    "    vxcm = sum(mstr[veloc]*v_x[veloc])/sum(mstr[veloc])\n",
    "    vycm = sum(mstr[veloc]*v_y[veloc])/sum(mstr[veloc])\n",
    "    vzcm = sum(mstr[veloc]*v_z[veloc])/sum(mstr[veloc])\n",
    "\n",
    "    vx = v_x - vxcm\n",
    "    vy = v_y - vycm\n",
    "    vz = v_z - vzcm\n",
    "\n",
    "    e1x,e2x,e3x,e1y,e2y,e3y,e1z,e2z,e3z = rot.rot1(mstr,xstr,ystr,zstr,vx,vy,vz,5)\n",
    "\n",
    "    xn_str = e1x*xstr + e1y*ystr + e1z*zstr\n",
    "    yn_str = e2x*xstr + e2y*ystr + e2z*zstr\n",
    "    zn_str = e3x*xstr + e3y*ystr + e3z*zstr\n",
    "\n",
    "    Rstr = np.sqrt(xn_str**2 + yn_str**2)\n",
    "    \n",
    "    Rstr   = Rstr[aa]\n",
    "    zn_str = zn_str[aa]\n",
    "    mstr   = mstr[aa]\n",
    "    FeH    = FeH[aa]\n",
    "\n",
    "    age_4,  = np.where((age[mask] > 3.5) & (age[mask] < 4.5))\n",
    "    age_8,  = np.where((age[mask] > 7.5) & (age[mask] < 8.5))\n",
    "    age_10, = np.where((age[mask] > 9.5) & (age[mask] < 10.5))\n",
    "    \n",
    "    fig, ax = plt.subplots(nrows=2, ncols=4, figsize=(16, 8))\n",
    "    fig.subplots_adjust(bottom=0.10, left =0.12, right = 0.97, top = 0.97)\n",
    "\n",
    "    ax[0,0].set_ylim(-5,5)\n",
    "    ax[0,0].set_xlim(0,25)\n",
    "    ax[0,0].minorticks_on()\n",
    "    ax[0,0].tick_params( labelsize=15)\n",
    "    ax[0,0].tick_params('both', length=5, width=1.2,which='minor', direction='in', right='on',top='on')\n",
    "    ax[0,0].tick_params('both', length=8, width=1.2,which='major', direction='in', right='on',top='on')\n",
    "    ax[0,0].set_xlabel('R [kpc]',fontsize=15)\n",
    "    ax[0,0].set_ylabel('z [kpc]',fontsize=15)\n",
    "#     fig.savefig('../_imagenes/star_ages_'+str('%03d'%j)+'.png',dpi=75, xxbox_inches='tight')"
   ]
  }
 ],
 "metadata": {
  "kernelspec": {
   "display_name": "Python 3",
   "language": "python",
   "name": "python3"
  },
  "language_info": {
   "codemirror_mode": {
    "name": "ipython",
    "version": 3
   },
   "file_extension": ".py",
   "mimetype": "text/x-python",
   "name": "python",
   "nbconvert_exporter": "python",
   "pygments_lexer": "ipython3",
   "version": "3.7.4"
  }
 },
 "nbformat": 4,
 "nbformat_minor": 4
}
