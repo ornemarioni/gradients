{
 "cells": [
  {
   "cell_type": "code",
   "execution_count": 6,
   "metadata": {},
   "outputs": [],
   "source": [
    "import matplotlib.pyplot as plt\n",
    "import numpy as np\n",
    "import h5py\n",
    "import time_conversion as time\n",
    "\n",
    "dir_path = '/store/clues/HESTIA/RE_SIMS/8192/GAL_FOR/17_11/output_2x2.5Mpc/snapdir_'\n",
    "f = open('../_data/time.dat','w')\n",
    "\n",
    "for i in range(127,-1, -1):\n",
    "    \n",
    "    snap = h5py.File(dir_path + str('%03d'%i) + '/snapshot_'+ str('%03d'%i)+'.0.hdf5','r')\n",
    "    a = snap.get('Header').attrs['Time']\n",
    "    \n",
    "    h = snap.get('Header').attrs['HubbleParam']\n",
    "    Omega0   = snap.get('Header').attrs['Omega0']\n",
    "    OmegaL   = snap.get('Header').attrs['OmegaLambda']\n",
    "    \n",
    "    z = snap.get('Header').attrs['Redshift']\n",
    "    \n",
    "    T = time.conv(z, h, OmegaL, Omega0)\n",
    "    \n",
    "    f.write(\n",
    "        str('%d'%i) + '\\t' +\n",
    "        str('%12.8f'%a) + '\\t' +\n",
    "        str('%12.8f'%z) + '\\t' +\n",
    "        str('%12.8f'%T) + '\\n'\n",
    "    )\n",
    "    \n",
    "f.close()"
   ]
  },
  {
   "cell_type": "code",
   "execution_count": null,
   "metadata": {},
   "outputs": [],
   "source": []
  }
 ],
 "metadata": {
  "kernelspec": {
   "display_name": "Python 3",
   "language": "python",
   "name": "python3"
  },
  "language_info": {
   "codemirror_mode": {
    "name": "ipython",
    "version": 3
   },
   "file_extension": ".py",
   "mimetype": "text/x-python",
   "name": "python",
   "nbconvert_exporter": "python",
   "pygments_lexer": "ipython3",
   "version": "3.7.4"
  }
 },
 "nbformat": 4,
 "nbformat_minor": 4
}
