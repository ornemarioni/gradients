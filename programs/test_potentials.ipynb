{
 "cells": [
  {
   "cell_type": "code",
   "execution_count": 5,
   "metadata": {},
   "outputs": [
    {
     "name": "stdout",
     "output_type": "stream",
     "text": [
      "Populating the interactive namespace from numpy and matplotlib\n"
     ]
    }
   ],
   "source": [
    "%pylab inline"
   ]
  },
  {
   "cell_type": "markdown",
   "metadata": {},
   "source": [
    "### Voy a exportar los archivos para que Vale me calcule los potenciales."
   ]
  },
  {
   "cell_type": "code",
   "execution_count": 6,
   "metadata": {},
   "outputs": [
    {
     "name": "stdout",
     "output_type": "stream",
     "text": [
      "[ 0  1  3  4  5  6  7  9 20 21 22 27 28 31 33 35 36 37 38 39 41 42 45 46\n",
      " 49 50 51 53 54 64 65 66 69 73 74 79 84 85 87 88 90 91 92 95 96]\n"
     ]
    }
   ],
   "source": [
    "import numpy as np\n",
    "subh = np.loadtxt('../_data/subhalos.dat')\n",
    "\n",
    "halo_mask, = np.where((subh[:,15]==0) & (subh[:,16]==0))\n",
    "\n",
    "subh_name = subh[:,0][halo_mask]\n",
    "subh_ind  = np.int_(subh_name)\n",
    "# nsubh = len(subh_name)\n",
    "\n",
    "print(subh_ind)"
   ]
  },
  {
   "cell_type": "code",
   "execution_count": 7,
   "metadata": {},
   "outputs": [
    {
     "name": "stdout",
     "output_type": "stream",
     "text": [
      "5771128\n"
     ]
    }
   ],
   "source": [
    "import matplotlib.pyplot as plt\n",
    "import h5py\n",
    "import rotation_mio as rot\n",
    "import numpy as np\n",
    "import time_conversion as time\n",
    "import bines2 as bines\n",
    "\n",
    "path = '/z/omarioni/gradients/_simulations/snap_127/'\n",
    "\n",
    "for j in subh_ind[:1]:\n",
    "    \n",
    "    snap = h5py.File(path + 'subhalo_'+str('%03d'%j)+'.h5py', 'r')\n",
    "\n",
    "    aexp = snap['/Time'][()]\n",
    "    h    = snap['/h'][()]\n",
    "#     Om_L = snap['/Omega_Lambda'][()]\n",
    "#     Om_M = snap['/Omega_0'][()]\n",
    "    R200 = snap['/R200'][()]\n",
    "\n",
    "    pstr = snap['/Str/Coordinates'][()]\n",
    "    mstr = snap['/Str/Masses'][()]\n",
    "    sft  = snap['/Str/FormationTime'][()]\n",
    "    \n",
    "    pgas = snap['/Gas/Coordinates'][()]\n",
    "    mgas = snap['/Gas/Masses'][()]\n",
    "    \n",
    "    pdrk = snap['/Drk/Coordinates'][()]\n",
    "    mdrk = snap['/Drk/Masses'][()]\n",
    "#     vstr = snap['/Str/Velocities'][()]\n",
    "\n",
    "    xstr = pstr[:,0]*aexp/h\n",
    "    ystr = pstr[:,1]*aexp/h\n",
    "    zstr = pstr[:,2]*aexp/h\n",
    "    rstr = np.sqrt(xstr**2+ystr**2+zstr**2)\n",
    "\n",
    "    mstr = mstr*1e10/h\n",
    "\n",
    "    \n",
    "    xgas = pgas[:,0]*aexp/h\n",
    "    ygas = pgas[:,1]*aexp/h\n",
    "    zgas = pgas[:,2]*aexp/h\n",
    "    rgas = np.sqrt(xgas**2+ygas**2+zgas**2)\n",
    "\n",
    "    mgas = mgas*1e10/h\n",
    "\n",
    "    \n",
    "    xdrk = pdrk[:,0]*aexp/h\n",
    "    ydrk = pdrk[:,1]*aexp/h\n",
    "    zdrk = pdrk[:,2]*aexp/h\n",
    "    rdrk = np.sqrt(xdrk**2+ydrk**2+zdrk**2)\n",
    "\n",
    "    mdrk = mdrk*1e10/h\n",
    "\n",
    "\n",
    "    limit_str, = np.where(rstr<R200)\n",
    "    limit_gas, = np.where(rgas<R200)\n",
    "    limit_drk, = np.where(rdrk<R200)\n",
    "    \n",
    "    \n",
    "    aa,  = np.where(sft[limit]>0)\n",
    "    \n",
    "    print(len(rstr[limit_str]))\n",
    "    \n",
    "#     data_str = np.ndarray([len(rstr[limit_str]),5])\n",
    "#     data_str[:,0] = np.arange(0,len(rstr[limit_str]))\n",
    "#     data_str[:,1] = xstr[limit_str]\n",
    "#     data_str[:,2] = ystr[limit_str]\n",
    "#     data_str[:,3] = zstr[limit_str]\n",
    "#     data_str[:,4] = mstr[limit_str]\n",
    "    \n",
    "#     data_gas = np.ndarray([len(rgas[limit_gas]),5])\n",
    "#     data_gas[:,0] = np.arange(0,len(rgas[limit_gas]))\n",
    "#     data_gas[:,1] = xgas[limit_gas]\n",
    "#     data_gas[:,2] = ygas[limit_gas]\n",
    "#     data_gas[:,3] = zgas[limit_gas]\n",
    "#     data_gas[:,4] = mgas[limit_gas]\n",
    "    \n",
    "#     data_drk = np.ndarray([len(rdrk[limit_drk]),5])\n",
    "#     data_drk[:,0] = np.arange(0,len(rdrk[limit_drk]))\n",
    "#     data_drk[:,1] = xdrk[limit_drk]\n",
    "#     data_drk[:,2] = ydrk[limit_drk]\n",
    "#     data_drk[:,3] = zdrk[limit_drk]\n",
    "#     data_drk[:,4] = mdrk[limit_drk]\n",
    "    \n",
    "#     np.savetxt('../_data/str.dat',data_str,fmt=('%i','%12.8f','%12.8f','%12.8f','%12.8f'))    \n",
    "#     np.savetxt('../_data/gas.dat',data_gas,fmt=('%i','%12.8f','%12.8f','%12.8f','%12.8f'))    \n",
    "#     np.savetxt('../_data/drk.dat',data_drk,fmt=('%i','%12.8f','%12.8f','%12.8f','%12.8f'))"
   ]
  },
  {
   "cell_type": "code",
   "execution_count": 7,
   "metadata": {},
   "outputs": [
    {
     "name": "stdout",
     "output_type": "stream",
     "text": [
      "10223053 4513990 5771128\n"
     ]
    }
   ],
   "source": [
    "print(len(xdrk[limit_drk]),len(xgas[limit_gas]),len(xstr[limit_str]))"
   ]
  },
  {
   "cell_type": "code",
   "execution_count": 8,
   "metadata": {},
   "outputs": [
    {
     "data": {
      "text/plain": [
       "20508171"
      ]
     },
     "execution_count": 8,
     "metadata": {},
     "output_type": "execute_result"
    }
   ],
   "source": [
    "len(xdrk[limit_drk])+len(xgas[limit_gas])+len(xstr[limit_str])"
   ]
  },
  {
   "cell_type": "code",
   "execution_count": 2,
   "metadata": {},
   "outputs": [],
   "source": [
    "import matplotlib.pyplot as plt\n",
    "import h5py\n",
    "import rotation_mio as rot\n",
    "import numpy as np\n",
    "import time_conversion as time\n",
    "import bines2 as bines\n",
    "\n",
    "path = '/z/omarioni/gradients/_simulations/snap_127/'\n",
    "\n",
    "# for j in subh_ind[:1]:\n",
    "\n",
    "# snap = h5py.File(path + 'subhalo_'+str('%03d'%j)+'.h5py', 'r')\n",
    "snap = h5py.File(path + 'subhalo_000.h5py', 'r')\n",
    "\n",
    "aexp = snap['/Time'][()]\n",
    "h    = snap['/h'][()]\n",
    "#     Om_L = snap['/Omega_Lambda'][()]\n",
    "#     Om_M = snap['/Omega_0'][()]\n",
    "R200 = snap['/R200'][()]\n",
    "\n",
    "pstr = snap['/Str/Coordinates'][()]\n",
    "mstr = snap['/Str/Masses'][()]\n",
    "\n",
    "pgas = snap['/Gas/Coordinates'][()]\n",
    "mgas = snap['/Gas/Masses'][()]\n",
    "\n",
    "pdrk = snap['/Drk/Coordinates'][()]\n",
    "mdrk = snap['/Drk/Masses'][()]\n",
    "#     vstr = snap['/Str/Velocities'][()]\n",
    "\n",
    "xstr = pstr[:,0]*aexp/h\n",
    "ystr = pstr[:,1]*aexp/h\n",
    "zstr = pstr[:,2]*aexp/h\n",
    "rstr = np.sqrt(xstr**2+ystr**2+zstr**2)\n",
    "mstr = mstr*1e10/h\n",
    "\n",
    "xgas = pgas[:,0]*aexp/h\n",
    "ygas = pgas[:,1]*aexp/h\n",
    "zgas = pgas[:,2]*aexp/h\n",
    "rgas = np.sqrt(xgas**2+ygas**2+zgas**2)\n",
    "mgas = mgas*1e10/h\n",
    "\n",
    "xdrk = pdrk[:,0]*aexp/h\n",
    "ydrk = pdrk[:,1]*aexp/h\n",
    "zdrk = pdrk[:,2]*aexp/h\n",
    "rdrk = np.sqrt(xdrk**2+ydrk**2+zdrk**2)\n",
    "mdrk = mdrk*1e10/h\n",
    "\n",
    "limit_str, = np.where(rstr<R200)\n",
    "limit_gas, = np.where(rgas<R200)\n",
    "limit_drk, = np.where(rdrk<R200)\n",
    "\n",
    "xt = np.concatenate([xstr[limit_str],xgas[limit_gas],xdrk[limit_drk]])    \n",
    "yt = np.concatenate([ystr[limit_str],ygas[limit_gas],ydrk[limit_drk]])\n",
    "zt = np.concatenate([zstr[limit_str],zgas[limit_gas],zdrk[limit_drk]])\n",
    "mt = np.concatenate([mstr[limit_str],mgas[limit_gas],mdrk[limit_drk]])"
   ]
  },
  {
   "cell_type": "code",
   "execution_count": null,
   "metadata": {},
   "outputs": [],
   "source": [
    "%%time\n",
    "from potential import*\n",
    "pot = energia.epot(0.34,mt,xt,yt,zt)"
   ]
  },
  {
   "cell_type": "code",
   "execution_count": 7,
   "metadata": {},
   "outputs": [
    {
     "data": {
      "text/plain": [
       "20508171"
      ]
     },
     "execution_count": 7,
     "metadata": {},
     "output_type": "execute_result"
    }
   ],
   "source": [
    "len(xt)"
   ]
  },
  {
   "cell_type": "code",
   "execution_count": null,
   "metadata": {},
   "outputs": [],
   "source": [
    "import numpy as np"
   ]
  }
 ],
 "metadata": {
  "kernelspec": {
   "display_name": "Python 3",
   "language": "python",
   "name": "python3"
  },
  "language_info": {
   "codemirror_mode": {
    "name": "ipython",
    "version": 3
   },
   "file_extension": ".py",
   "mimetype": "text/x-python",
   "name": "python",
   "nbconvert_exporter": "python",
   "pygments_lexer": "ipython3",
   "version": "3.7.4"
  }
 },
 "nbformat": 4,
 "nbformat_minor": 4
}
