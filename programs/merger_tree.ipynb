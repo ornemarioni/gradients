{
 "cells": [
  {
   "cell_type": "code",
   "execution_count": 1,
   "metadata": {},
   "outputs": [
    {
     "name": "stdout",
     "output_type": "stream",
     "text": [
      "[ 0  1  3  4  5  6  7  9 20 21 22 27 28 31 33 35 36 37 38 39 41 42 45 46\n",
      " 49 50 51 53 54 64 65 66 69 73 74 79 84 85 87 88 90 91 92 95 96]\n"
     ]
    }
   ],
   "source": [
    "import numpy as np\n",
    "subh = np.loadtxt('../_data/subhalos.dat')\n",
    "\n",
    "halo_mask, = np.where((subh[:,15]==0) & (subh[:,16]==0))\n",
    "\n",
    "subh_name = subh[:,0][halo_mask]\n",
    "subh_ind  = np.int_(subh_name)\n",
    "# nsubh = len(subh_name)\n",
    "\n",
    "print(subh_ind)"
   ]
  },
  {
   "cell_type": "markdown",
   "metadata": {},
   "source": [
    "### Saco las 10 particulas mas ligadas del halo"
   ]
  },
  {
   "cell_type": "code",
   "execution_count": 2,
   "metadata": {},
   "outputs": [
    {
     "name": "stdout",
     "output_type": "stream",
     "text": [
      "[111442618 138005949 112832535 140178713 140160259 111469995 113389968\n",
      " 113261481 111689283 113356056]\n"
     ]
    }
   ],
   "source": [
    "import matplotlib.pyplot as plt\n",
    "import h5py\n",
    "import numpy as np\n",
    "import gc\n",
    "import random\n",
    "\n",
    "G = 4.299e-6\n",
    "\n",
    "path = '/z/omarioni/gradients/_simulations/snap_127/'\n",
    "\n",
    "for j in subh_ind[:1]:\n",
    "\n",
    "    snap = h5py.File(path + 'subhalo_'+str('%03d'%j)+'.h5py', 'r')\n",
    "\n",
    "    aexp = snap['/Time'][()]\n",
    "    h    = snap['/h'][()]\n",
    "    R200  = snap['/R200'][()]\n",
    "    cen  = snap['/Center'][()]\n",
    "\n",
    "    pdrk = snap['/Drk/Coordinates'][()]\n",
    "    mdrk = snap['/Drk/Masses'][()]\n",
    "    vdrk = snap['/Drk/Velocities'][()]    \n",
    "    pot_drk = snap['/Drk/Potential'][()]   \n",
    "    ID_drk  = snap['/Drk/IDs'][()]\n",
    "    \n",
    "    xdrk = pdrk[:,0]*aexp/h\n",
    "    ydrk = pdrk[:,1]*aexp/h\n",
    "    zdrk = pdrk[:,2]*aexp/h\n",
    "    rdrk = np.sqrt(xdrk**2+ydrk**2+zdrk**2)\n",
    "    \n",
    "    v_x = vdrk[:,0] *np.sqrt(aexp)\n",
    "    v_y = vdrk[:,1] *np.sqrt(aexp)\n",
    "    v_z = vdrk[:,2] *np.sqrt(aexp)\n",
    "\n",
    "    mdrk = mdrk*1e10/h\n",
    "    pot_drk  = pot_drk/aexp\n",
    "    \n",
    "    mask, = np.where(rdrk<R200)\n",
    "    \n",
    "    e_kinetic = (1/2.)*(v_x[mask]**2 + v_y[mask]**2 + v_z[mask]**2)\n",
    "\n",
    "    energy = pot_drk[mask] + e_kinetic\n",
    "    \n",
    "    sort = np.argsort(energy)\n",
    "    particles = ID_drk[mask][sort][:10]\n",
    "    \n",
    "    print(particles)"
   ]
  },
  {
   "cell_type": "code",
   "execution_count": 3,
   "metadata": {},
   "outputs": [
    {
     "name": "stdout",
     "output_type": "stream",
     "text": [
      "CPU times: user 59 ms, sys: 95.2 ms, total: 154 ms\n",
      "Wall time: 163 ms\n"
     ]
    },
    {
     "data": {
      "text/plain": [
       "33"
      ]
     },
     "execution_count": 3,
     "metadata": {},
     "output_type": "execute_result"
    }
   ],
   "source": [
    "%%time\n",
    "import gc\n",
    "import h5py\n",
    "import numpy as np\n",
    "\n",
    "dir_path = '/store/clues/HESTIA/RE_SIMS/8192/GAL_FOR/17_11/output_2x2.5Mpc/groups_126/'\n",
    "\n",
    "SubMass = []\n",
    "SubPos  = []\n",
    "SubR50  = []\n",
    "\n",
    "for i in range(0,8):\n",
    "    snap = h5py.File(dir_path + 'fof_subhalo_tab_126.'+ str('%s'%i) +'.hdf5','r')\n",
    "    \n",
    "    sub_mass = snap['Subhalo/SubhaloMass'][()]\n",
    "    sub_pos  = snap['Subhalo/SubhaloPos'][()]\n",
    "    sub_r50  = snap['Subhalo/SubhaloHalfmassRad'][()]\n",
    "\n",
    "    SubMass.append(sub_mass)\n",
    "    SubPos.append(sub_pos)\n",
    "    SubR50.append(sub_r50)\n",
    "\n",
    "SubMass = np.concatenate(SubMass)\n",
    "SubPos  = np.concatenate(SubPos)\n",
    "SubR50  = np.concatenate(SubR50)\n",
    "\n",
    "gc.collect()"
   ]
  },
  {
   "cell_type": "code",
   "execution_count": 4,
   "metadata": {},
   "outputs": [
    {
     "name": "stdout",
     "output_type": "stream",
     "text": [
      "CPU times: user 29.6 s, sys: 24.8 s, total: 54.4 s\n",
      "Wall time: 11.8 s\n"
     ]
    },
    {
     "data": {
      "text/plain": [
       "0"
      ]
     },
     "execution_count": 4,
     "metadata": {},
     "output_type": "execute_result"
    }
   ],
   "source": [
    "%%time\n",
    "import gc\n",
    "import joblib\n",
    "import h5py\n",
    "import pathlib\n",
    "import numpy as np\n",
    "\n",
    "dir_path = '/store/clues/HESTIA/RE_SIMS/8192/GAL_FOR/17_11/output_2x2.5Mpc/snapdir_126/'\n",
    "\n",
    "DrkPos  = []\n",
    "DrkID   = []\n",
    "\n",
    "for i in range(0,8):\n",
    "    snap = h5py.File(dir_path + 'snapshot_126.'+ str('%s'%i) +'.hdf5','r')\n",
    "   \n",
    "    pos_drk    = snap['PartType1/Coordinates'][()]\n",
    "    ID_drk     = snap['PartType1/ParticleIDs'][()]\n",
    "    \n",
    "    DrkPos.append(pos_drk)\n",
    "    DrkID.append(ID_drk)\n",
    "\n",
    "a = snap.get('Header').attrs['Time']\n",
    "    \n",
    "DrkPos  = np.concatenate(DrkPos)\n",
    "DrkID   = np.concatenate(DrkID)\n",
    "\n",
    "gc.collect()"
   ]
  },
  {
   "cell_type": "code",
   "execution_count": 5,
   "metadata": {},
   "outputs": [],
   "source": [
    "search = np.isin(DrkID, particles)"
   ]
  },
  {
   "cell_type": "code",
   "execution_count": 8,
   "metadata": {},
   "outputs": [],
   "source": [
    "xdrk = DrkPos[search,0]*1000*a/h\n",
    "ydrk = DrkPos[search,1]*1000*a/h\n",
    "zdrk = DrkPos[search,2]*1000*a/h\n",
    "rdrk = np.sqrt(xdrk**2+ydrk**2+zdrk**2)\n",
    "\n",
    "SubPos_ = SubPos*1000*a/h"
   ]
  },
  {
   "cell_type": "code",
   "execution_count": 11,
   "metadata": {},
   "outputs": [
    {
     "name": "stdout",
     "output_type": "stream",
     "text": [
      "0\n",
      "0\n",
      "0\n",
      "0\n",
      "0\n",
      "0\n",
      "0\n",
      "0\n",
      "0\n",
      "0\n"
     ]
    }
   ],
   "source": [
    "distance = np.zeros(len(SubMass))\n",
    "for j in range(len(particles)):\n",
    "    for i in range(len(SubMass)):\n",
    "        distance[i] = np.sqrt((xdrk[j]-SubPos_[i,0])**2+(ydrk[j]-SubPos_[i,1])**2+(zdrk[j]-SubPos_[i,2])**2)\n",
    "    print(np.argmin(distance))"
   ]
  },
  {
   "cell_type": "code",
   "execution_count": null,
   "metadata": {},
   "outputs": [],
   "source": []
  },
  {
   "cell_type": "code",
   "execution_count": null,
   "metadata": {},
   "outputs": [],
   "source": []
  },
  {
   "cell_type": "code",
   "execution_count": null,
   "metadata": {},
   "outputs": [],
   "source": []
  },
  {
   "cell_type": "code",
   "execution_count": null,
   "metadata": {},
   "outputs": [],
   "source": [
    "import matplotlib.pyplot as plt \n",
    "import numpy as np\n",
    "import pynbody\n",
    "\n",
    "snap = np.loadtxt('/z/dalgorry/snapshots.txt', dtype='string')\n",
    "\n",
    "fo=open('/z/dalgorry/datos_salida2/merger_tree-h1.dat','w')\n",
    "\n",
    "s=pynbody.load('/srv/cosmdatc/clues/B64_WM3_186592/LG/GAS_SFR/4096_Gasoline/1024/WMAP3.CLUES.HR.001024')\n",
    "h = s.halos()\n",
    "\n",
    "time = s.properties['time'].in_units('Gyr')\n",
    "print 'snap','1024','t=', time\n",
    "\n",
    "aux = 1\n",
    "\n",
    "fo.write(str('%s'% snap[len(snap)-1])+'\\t'+\n",
    "         str('%12.6f' %time)+'\\t'+\n",
    "         str('%02d'% aux)+'\\n')\n",
    "fo.flush()\n",
    "\n",
    "h_aux = h[aux]\n",
    "    \n",
    "r200 = h_aux.properties['Rvir']\n",
    "cen_pot = pynbody.analysis.halo.center(h_aux,mode='pot',retcen=True).in_units('kpc')\n",
    "x_aux=((h_aux.dm['pos'].in_units('kpc'))[:,0] - cen_pot[0])\n",
    "y_aux=((h_aux.dm['pos'].in_units('kpc'))[:,1] - cen_pot[1])\n",
    "z_aux=((h_aux.dm['pos'].in_units('kpc'))[:,2] - cen_pot[2])\n",
    "r_aux = np.sqrt(x_aux**2 + y_aux**2 + z_aux**2)\n",
    "\n",
    "limit, = np.where(r_aux < r200)\n",
    "\n",
    "e_pot = h_aux.dm['phi'].in_units('km**2 s**-2')\n",
    "\n",
    "vel_aux = h_aux.dm['vel'].in_units('km s**-1')\n",
    "mdrk_aux = h_aux.dm['mass'].in_units('Msol')\n",
    "\n",
    "veloc,=np.where(r_aux < 0.05*r200)\n",
    "vxcm_aux = sum(mdrk_aux[veloc]*vel_aux[:,0][veloc])/sum(mdrk_aux[veloc])\n",
    "vycm_aux = sum(mdrk_aux[veloc]*vel_aux[:,1][veloc])/sum(mdrk_aux[veloc])\n",
    "vzcm_aux = sum(mdrk_aux[veloc]*vel_aux[:,2][veloc])/sum(mdrk_aux[veloc])\n",
    "\n",
    "vx_aux = vel_aux[:,0] - vxcm_aux\n",
    "vy_aux = vel_aux[:,1] - vycm_aux\n",
    "vz_aux = vel_aux[:,2] - vzcm_aux\n",
    "\n",
    "e_cinetica = (1/2.)*(vx_aux**2 + vy_aux**2 + vz_aux**2)\n",
    "\n",
    "energia= e_pot + e_cinetica\n",
    "\n",
    "e_sort = np.sort(energia[limit])\n",
    "e_indice = np.argsort(energia[limit])\n",
    "\n",
    "ID = h_aux.dm['iord'][limit][e_indice][:10]\n",
    "\n",
    "for j in range(len(snap)-2,-1,-1):\n",
    "    \n",
    "    s=pynbody.load('/srv/cosmdatc/clues/B64_WM3_186592/LG/GAS_SFR/4096_Gasoline/'+str('%s'%snap[j])+'/WMAP3.CLUES.HR.00'+str('%s'%snap[j]))\n",
    "    h = s.halos()\n",
    "    \n",
    "    time = s.properties['time'].in_units('Gyr')       \n",
    "    print 'snap', snap[j], 't=', time\n",
    "    \n",
    "    for i in range (1,100):\n",
    "        k=0\n",
    "        \n",
    "        h_num = h[i]\n",
    "        \n",
    "        ID_num = h_num.dm['iord']\n",
    "\n",
    "        for ID_part in ID:\n",
    "            if ID_part in ID_num:\n",
    "                k += 1\n",
    "        if k > 6:\n",
    "            break\n",
    "\n",
    "    print k, 'halo','%s'%i\n",
    "    \n",
    "    aux = i\n",
    "    \n",
    "    fo.write(str('%s'% snap[j])+'\\t'+\n",
    "            str('%12.6f' %time)+'\\t'+\n",
    "            str('%02d'% aux)+'\\n')\n",
    "    fo.flush()\n",
    "    \n",
    "    h_aux = h[aux]\n",
    "    \n",
    "    r200 = h_aux.properties['Rvir']\n",
    "    cen_pot = pynbody.analysis.halo.center(h_aux,mode='pot',retcen=True).in_units('kpc')\n",
    "    x_aux=((h_aux.dm['pos'].in_units('kpc'))[:,0] - cen_pot[0])\n",
    "    y_aux=((h_aux.dm['pos'].in_units('kpc'))[:,1] - cen_pot[1])\n",
    "    z_aux=((h_aux.dm['pos'].in_units('kpc'))[:,2] - cen_pot[2])\n",
    "    r_aux = np.sqrt(x_aux**2 + y_aux**2 + z_aux**2)\n",
    "    \n",
    "    limit, = np.where(r_aux < r200)\n",
    "    \n",
    "    e_pot = h_aux.dm['phi'].in_units('km**2 s**-2')\n",
    "    \n",
    "    vel_aux = h_aux.dm['vel'].in_units('km s**-1')\n",
    "    mdrk_aux = h_aux.dm['mass'].in_units('Msol')\n",
    "    \n",
    "    veloc,=np.where(r_aux < 0.05*r200)\n",
    "    vxcm_aux = sum(mdrk_aux[veloc]*vel_aux[:,0][veloc])/sum(mdrk_aux[veloc])\n",
    "    vycm_aux = sum(mdrk_aux[veloc]*vel_aux[:,1][veloc])/sum(mdrk_aux[veloc])\n",
    "    vzcm_aux = sum(mdrk_aux[veloc]*vel_aux[:,2][veloc])/sum(mdrk_aux[veloc])\n",
    "\n",
    "    vx_aux = vel_aux[:,0] - vxcm_aux\n",
    "    vy_aux = vel_aux[:,1] - vycm_aux\n",
    "    vz_aux = vel_aux[:,2] - vzcm_aux\n",
    "\n",
    "    e_cinetica = (1/2.)*(vx_aux**2 + vy_aux**2 + vz_aux**2)\n",
    "    \n",
    "    energia= e_pot + e_cinetica\n",
    "    \n",
    "    e_sort = np.sort(energia[limit])\n",
    "    e_indice = np.argsort(energia[limit])\n",
    "    \n",
    "    ID = h_aux.dm['iord'][limit][e_indice][:10]  "
   ]
  }
 ],
 "metadata": {
  "kernelspec": {
   "display_name": "Python 3",
   "language": "python",
   "name": "python3"
  },
  "language_info": {
   "codemirror_mode": {
    "name": "ipython",
    "version": 3
   },
   "file_extension": ".py",
   "mimetype": "text/x-python",
   "name": "python",
   "nbconvert_exporter": "python",
   "pygments_lexer": "ipython3",
   "version": "3.7.4"
  }
 },
 "nbformat": 4,
 "nbformat_minor": 4
}
